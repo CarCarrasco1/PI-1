{
 "cells": [
  {
   "attachments": {},
   "cell_type": "markdown",
   "metadata": {},
   "source": [
    "### **MODELO DE MACHINE LEARNING** ###"
   ]
  },
  {
   "attachments": {},
   "cell_type": "markdown",
   "metadata": {},
   "source": [
    "#### **SISTEMAS DE RECOMENDACIÓN**"
   ]
  },
  {
   "attachments": {},
   "cell_type": "markdown",
   "metadata": {},
   "source": [
    "A continuacion desarollaremos un modelo de sistema de recomedacion para peliculas, con nuestro dataset de muestra. con este entrenaremos al modelo para que luego lo podamos deployar a una interfas grafica que se usada por los consumidores. "
   ]
  },
  {
   "cell_type": "code",
   "execution_count": 1,
   "metadata": {},
   "outputs": [],
   "source": [
    "from surprise import SVD\n",
    "from surprise import Dataset\n",
    "from surprise import Reader\n",
    "from surprise.model_selection import train_test_split"
   ]
  },
  {
   "cell_type": "code",
   "execution_count": 2,
   "metadata": {},
   "outputs": [],
   "source": [
    "import pyarrow.parquet as pq\n",
    "import pandas as pd\n",
    "import pyarrow.parquet as pq"
   ]
  },
  {
   "cell_type": "code",
   "execution_count": 3,
   "metadata": {},
   "outputs": [],
   "source": [
    "df = pd.read_parquet(r'/Users/CarlaCarrasco/Desktop/PROYECTOINDIVIDUALUNO/dataset_ML.parquet')\n",
    "#df=pd.read_parquet(r'/Users/CarlaCarrasco/Desktop/PROYECTOINDIVIDUALUNO/dataset_COMPLETO.parquet')"
   ]
  },
  {
   "cell_type": "code",
   "execution_count": 4,
   "metadata": {},
   "outputs": [
    {
     "data": {
      "text/html": [
       "<div>\n",
       "<style scoped>\n",
       "    .dataframe tbody tr th:only-of-type {\n",
       "        vertical-align: middle;\n",
       "    }\n",
       "\n",
       "    .dataframe tbody tr th {\n",
       "        vertical-align: top;\n",
       "    }\n",
       "\n",
       "    .dataframe thead th {\n",
       "        text-align: right;\n",
       "    }\n",
       "</style>\n",
       "<table border=\"1\" class=\"dataframe\">\n",
       "  <thead>\n",
       "    <tr style=\"text-align: right;\">\n",
       "      <th></th>\n",
       "      <th>id</th>\n",
       "      <th>title</th>\n",
       "      <th>userId</th>\n",
       "      <th>score</th>\n",
       "    </tr>\n",
       "  </thead>\n",
       "  <tbody>\n",
       "    <tr>\n",
       "      <th>2812758</th>\n",
       "      <td>as5866</td>\n",
       "      <td>back to gaya</td>\n",
       "      <td>57727</td>\n",
       "      <td>3.5</td>\n",
       "    </tr>\n",
       "    <tr>\n",
       "      <th>2182950</th>\n",
       "      <td>as4553</td>\n",
       "      <td>the exorcism in amarillo</td>\n",
       "      <td>55215</td>\n",
       "      <td>5.0</td>\n",
       "    </tr>\n",
       "    <tr>\n",
       "      <th>4567909</th>\n",
       "      <td>as9535</td>\n",
       "      <td>pune 52</td>\n",
       "      <td>19690</td>\n",
       "      <td>3.0</td>\n",
       "    </tr>\n",
       "    <tr>\n",
       "      <th>257814</th>\n",
       "      <td>as538</td>\n",
       "      <td>the mine adventure with shawn the train and te...</td>\n",
       "      <td>116794</td>\n",
       "      <td>2.0</td>\n",
       "    </tr>\n",
       "    <tr>\n",
       "      <th>4250346</th>\n",
       "      <td>as8869</td>\n",
       "      <td>arthur &amp; merlin: knights of camelot</td>\n",
       "      <td>258137</td>\n",
       "      <td>5.0</td>\n",
       "    </tr>\n",
       "  </tbody>\n",
       "</table>\n",
       "</div>"
      ],
      "text/plain": [
       "             id                                              title  userId  \\\n",
       "2812758  as5866                                       back to gaya   57727   \n",
       "2182950  as4553                           the exorcism in amarillo   55215   \n",
       "4567909  as9535                                            pune 52   19690   \n",
       "257814    as538  the mine adventure with shawn the train and te...  116794   \n",
       "4250346  as8869                arthur & merlin: knights of camelot  258137   \n",
       "\n",
       "         score  \n",
       "2812758    3.5  \n",
       "2182950    5.0  \n",
       "4567909    3.0  \n",
       "257814     2.0  \n",
       "4250346    5.0  "
      ]
     },
     "execution_count": 4,
     "metadata": {},
     "output_type": "execute_result"
    }
   ],
   "source": [
    "df.head()"
   ]
  },
  {
   "cell_type": "code",
   "execution_count": 5,
   "metadata": {},
   "outputs": [
    {
     "name": "stdout",
     "output_type": "stream",
     "text": [
      "<class 'pandas.core.frame.DataFrame'>\n",
      "Int64Index: 399998 entries, 2812758 to 8662390\n",
      "Data columns (total 4 columns):\n",
      " #   Column  Non-Null Count   Dtype  \n",
      "---  ------  --------------   -----  \n",
      " 0   id      399998 non-null  object \n",
      " 1   title   399998 non-null  object \n",
      " 2   userId  399998 non-null  int64  \n",
      " 3   score   399998 non-null  float64\n",
      "dtypes: float64(1), int64(1), object(2)\n",
      "memory usage: 15.3+ MB\n"
     ]
    }
   ],
   "source": [
    "df.info()"
   ]
  },
  {
   "attachments": {},
   "cell_type": "markdown",
   "metadata": {},
   "source": [
    "CREACIÓN Y ENTRENAMIENTO DEL MODELO."
   ]
  },
  {
   "cell_type": "code",
   "execution_count": 6,
   "metadata": {},
   "outputs": [],
   "source": [
    "#Creo una escala de la puntuacion, va desde el 1 al 5. \n",
    "reader = Reader(rating_scale=(1, 5))"
   ]
  },
  {
   "attachments": {},
   "cell_type": "markdown",
   "metadata": {},
   "source": [
    "Creo un objeto Dataset(formato con que trabaja la libreria) de Surprise utilizando la función load_from_df(), convirtiendo mi DataFrame de pandas a un objeto que pueda trabajar.\n",
    "Selecciono solo 'userId', 'title' y 'score' df **df** y con la función load_from_df(). El orden de las columnas debe ser [usuario, ítem, puntuación], esta se encarga de unir nuestra variable que contenia el score, junto con las demas de df, y convertirlo en un modelo entrenable por la librería."
   ]
  },
  {
   "cell_type": "code",
   "execution_count": 7,
   "metadata": {},
   "outputs": [],
   "source": [
    "data = Dataset.load_from_df(df[['userId', 'title', 'score']], reader)"
   ]
  },
  {
   "attachments": {},
   "cell_type": "markdown",
   "metadata": {},
   "source": [
    "Una vez, el data set armado, lo podemos usar para comenzar con el modelo.\n",
    "\n",
    "Primero dividimos los parametros para *'train'* y *'test'*"
   ]
  },
  {
   "cell_type": "code",
   "execution_count": 8,
   "metadata": {},
   "outputs": [],
   "source": [
    "trainset, testset = train_test_split(data, test_size=0.2)"
   ]
  },
  {
   "attachments": {},
   "cell_type": "markdown",
   "metadata": {},
   "source": [
    "Instancio el modelo."
   ]
  },
  {
   "cell_type": "code",
   "execution_count": 9,
   "metadata": {},
   "outputs": [],
   "source": [
    "model = SVD()"
   ]
  },
  {
   "attachments": {},
   "cell_type": "markdown",
   "metadata": {},
   "source": [
    "Entreno el modelo."
   ]
  },
  {
   "cell_type": "code",
   "execution_count": 10,
   "metadata": {},
   "outputs": [
    {
     "data": {
      "text/plain": [
       "<surprise.prediction_algorithms.matrix_factorization.SVD at 0x7f9d5178cd90>"
      ]
     },
     "execution_count": 10,
     "metadata": {},
     "output_type": "execute_result"
    }
   ],
   "source": [
    "model.fit(trainset)"
   ]
  },
  {
   "attachments": {},
   "cell_type": "markdown",
   "metadata": {},
   "source": [
    "Testeo el modelo."
   ]
  },
  {
   "cell_type": "code",
   "execution_count": 11,
   "metadata": {},
   "outputs": [],
   "source": [
    "predictions = model.test(testset)\n"
   ]
  },
  {
   "attachments": {},
   "cell_type": "markdown",
   "metadata": {},
   "source": [
    "**EVALUACION**"
   ]
  },
  {
   "attachments": {},
   "cell_type": "markdown",
   "metadata": {},
   "source": [
    "Calculo el error cuadrático medio (RMSE) y el error absoluto medio (MAE) utilizando accuracy.rmse() y accuracy.mae() de Surprise."
   ]
  },
  {
   "cell_type": "code",
   "execution_count": 12,
   "metadata": {},
   "outputs": [
    {
     "name": "stdout",
     "output_type": "stream",
     "text": [
      "RMSE: 1.0319\n",
      "MAE:  0.8147\n"
     ]
    },
    {
     "data": {
      "text/plain": [
       "0.8146974748259048"
      ]
     },
     "execution_count": 12,
     "metadata": {},
     "output_type": "execute_result"
    }
   ],
   "source": [
    "from surprise import accuracy #traigo las funciones que necesito\n",
    "\n",
    "accuracy.rmse(predictions)\n",
    "accuracy.mae(predictions)\n"
   ]
  },
  {
   "attachments": {},
   "cell_type": "markdown",
   "metadata": {},
   "source": [
    "Optimización de hiperparámetros."
   ]
  },
  {
   "cell_type": "code",
   "execution_count": 13,
   "metadata": {},
   "outputs": [
    {
     "name": "stdout",
     "output_type": "stream",
     "text": [
      "1\n",
      "Evaluating RMSE of algorithm SVD on 3 split(s).\n",
      "\n",
      "                  Fold 1  Fold 2  Fold 3  Mean    Std     \n",
      "RMSE (testset)    1.0271  1.0254  1.0251  1.0259  0.0009  \n",
      "Fit time          1.63    1.70    1.65    1.66    0.03    \n",
      "Test time         1.22    1.18    0.93    1.11    0.12    \n",
      "2\n",
      "Evaluating RMSE of algorithm SVD on 3 split(s).\n",
      "\n",
      "                  Fold 1  Fold 2  Fold 3  Mean    Std     \n",
      "RMSE (testset)    1.0242  1.0288  1.0250  1.0260  0.0020  \n",
      "Fit time          1.60    1.70    1.64    1.65    0.04    \n",
      "Test time         1.18    1.20    0.97    1.12    0.11    \n",
      "4\n",
      "Evaluating RMSE of algorithm SVD on 3 split(s).\n",
      "\n",
      "                  Fold 1  Fold 2  Fold 3  Mean    Std     \n",
      "RMSE (testset)    1.0278  1.0253  1.0251  1.0261  0.0012  \n",
      "Fit time          1.69    1.71    1.71    1.70    0.01    \n",
      "Test time         1.00    0.98    1.19    1.05    0.10    \n",
      "8\n",
      "Evaluating RMSE of algorithm SVD on 3 split(s).\n",
      "\n",
      "                  Fold 1  Fold 2  Fold 3  Mean    Std     \n",
      "RMSE (testset)    1.0281  1.0272  1.0259  1.0271  0.0009  \n",
      "Fit time          1.80    1.79    1.78    1.79    0.01    \n",
      "Test time         0.99    1.00    0.97    0.99    0.01    \n",
      "16\n",
      "Evaluating RMSE of algorithm SVD on 3 split(s).\n",
      "\n",
      "                  Fold 1  Fold 2  Fold 3  Mean    Std     \n",
      "RMSE (testset)    1.0284  1.0222  1.0289  1.0265  0.0031  \n",
      "Fit time          2.01    2.13    2.18    2.11    0.07    \n",
      "Test time         0.96    0.98    0.99    0.98    0.01    \n",
      "32\n",
      "Evaluating RMSE of algorithm SVD on 3 split(s).\n",
      "\n",
      "                  Fold 1  Fold 2  Fold 3  Mean    Std     \n",
      "RMSE (testset)    1.0289  1.0255  1.0280  1.0274  0.0014  \n",
      "Fit time          2.40    2.39    2.39    2.39    0.01    \n",
      "Test time         1.07    1.05    1.19    1.10    0.06    \n",
      "64\n",
      "Evaluating RMSE of algorithm SVD on 3 split(s).\n",
      "\n",
      "                  Fold 1  Fold 2  Fold 3  Mean    Std     \n",
      "RMSE (testset)    1.0264  1.0260  1.0314  1.0279  0.0025  \n",
      "Fit time          3.00    3.54    2.94    3.16    0.27    \n",
      "Test time         1.20    0.96    1.00    1.05    0.10    \n",
      "128\n",
      "Evaluating RMSE of algorithm SVD on 3 split(s).\n",
      "\n",
      "                  Fold 1  Fold 2  Fold 3  Mean    Std     \n",
      "RMSE (testset)    1.0344  1.0276  1.0306  1.0309  0.0028  \n",
      "Fit time          3.97    3.96    3.94    3.96    0.01    \n",
      "Test time         1.04    1.04    1.19    1.09    0.07    \n",
      "256\n",
      "Evaluating RMSE of algorithm SVD on 3 split(s).\n",
      "\n",
      "                  Fold 1  Fold 2  Fold 3  Mean    Std     \n",
      "RMSE (testset)    1.0392  1.0359  1.0343  1.0364  0.0020  \n",
      "Fit time          5.68    6.03    6.02    5.91    0.16    \n",
      "Test time         1.23    1.10    1.05    1.13    0.08    \n"
     ]
    }
   ],
   "source": [
    "from surprise.model_selection import cross_validate\n",
    "import numpy as np\n",
    "\n",
    "rmse_test_means = []\n",
    "factores = [1,2,4,8,16,32,64,128,256]\n",
    "\n",
    "for factor in factores:\n",
    "    print(factor)\n",
    "    model = SVD(n_factors=factor)\n",
    "    cv = cross_validate(model, data, measures=['RMSE'], cv = 3, verbose=True)\n",
    "    rmse_test_means.append(np.mean(cv['test_rmse']))"
   ]
  },
  {
   "attachments": {},
   "cell_type": "markdown",
   "metadata": {},
   "source": [
    "### **FUNCIÓN DE PREDICCIÓN**"
   ]
  },
  {
   "cell_type": "code",
   "execution_count": 14,
   "metadata": {},
   "outputs": [],
   "source": [
    "from surprise import dump\n",
    "import joblib"
   ]
  },
  {
   "cell_type": "code",
   "execution_count": 15,
   "metadata": {},
   "outputs": [],
   "source": [
    "# Cargar el modelo desde el archivo\n",
    "file_name = 'modelo_entrenado.sav'\n",
    "loaded_model = dump.load(file_name)[1]"
   ]
  },
  {
   "cell_type": "code",
   "execution_count": 16,
   "metadata": {},
   "outputs": [],
   "source": [
    "modelo = joblib.load('modelo_entrenado.sav')\n",
    "\n",
    "def recomendacion(userId, id):\n",
    "    \n",
    "    prediction = model.predict(userId, id)\n",
    "\n",
    "    if prediction.est >= 3.5:\n",
    "        \n",
    "        consejo = \"Excelente timing! La película espera por vos.\"\n",
    "        \n",
    "    else:\n",
    "        \n",
    "        consejo = \" Hey! Deberías ir en busca de otra película, parece que esta no es tu crush cinéfilx.\"\n",
    "\n",
    "\n",
    "    return consejo"
   ]
  },
  {
   "cell_type": "code",
   "execution_count": 17,
   "metadata": {},
   "outputs": [
    {
     "data": {
      "text/plain": [
       "' Hey! Deberías ir en busca de otra película, parece que esta no es tu crush cinéfilx.'"
      ]
     },
     "execution_count": 17,
     "metadata": {},
     "output_type": "execute_result"
    }
   ],
   "source": [
    "recomendacion(12342, 'as123')"
   ]
  },
  {
   "cell_type": "code",
   "execution_count": 18,
   "metadata": {},
   "outputs": [
    {
     "data": {
      "text/plain": [
       "'Excelente timing! La película espera por vos.'"
      ]
     },
     "execution_count": 18,
     "metadata": {},
     "output_type": "execute_result"
    }
   ],
   "source": [
    "recomendacion(113452, 'as123')"
   ]
  }
 ],
 "metadata": {
  "kernelspec": {
   "display_name": "base",
   "language": "python",
   "name": "python3"
  },
  "language_info": {
   "codemirror_mode": {
    "name": "ipython",
    "version": 3
   },
   "file_extension": ".py",
   "mimetype": "text/x-python",
   "name": "python",
   "nbconvert_exporter": "python",
   "pygments_lexer": "ipython3",
   "version": "3.9.13"
  },
  "orig_nbformat": 4,
  "vscode": {
   "interpreter": {
    "hash": "40d3a090f54c6569ab1632332b64b2c03c39dcf918b08424e98f38b5ae0af88f"
   }
  }
 },
 "nbformat": 4,
 "nbformat_minor": 2
}
