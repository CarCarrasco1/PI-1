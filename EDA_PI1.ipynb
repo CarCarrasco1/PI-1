{
  "cells": [
    {
      "cell_type": "markdown",
      "metadata": {
        "id": "k0U8yzgJy7oT"
      },
      "source": [
        "# **ANÁLISIS EXPLORATORIO - MACHINE LEARNING** "
      ]
    },
    {
      "attachments": {},
      "cell_type": "markdown",
      "metadata": {
        "id": "hoR0AcIoc7J8"
      },
      "source": [
        "## **VISUALIZACIÓN**"
      ]
    },
    {
      "attachments": {},
      "cell_type": "markdown",
      "metadata": {
        "id": "2I5eAiO2zSMm"
      },
      "source": [
        "Voy insnstalar y configurar Colab, para poder trabajar, desde ambos ambientes. Se debe a la cantidad de registros."
      ]
    },
    {
      "cell_type": "markdown",
      "metadata": {
        "id": "r9NLc8Wa1Hf4"
      },
      "source": [
        "Instalo las librerias que en un primer momento voy a usar.\n"
      ]
    },
    {
      "cell_type": "code",
      "execution_count": 48,
      "metadata": {
        "colab": {
          "base_uri": "https://localhost:8080/"
        },
        "id": "YopzMKFKg4iY",
        "outputId": "61562d8c-56fb-4ac6-ed2c-290b146e380c"
      },
      "outputs": [],
      "source": [
        "#habilito lectura en Drive PARA COLAB\n",
        "#from google.colab import drive\n",
        "#drive.mount('/content/drive')"
      ]
    },
    {
      "cell_type": "code",
      "execution_count": 49,
      "metadata": {
        "colab": {
          "base_uri": "https://localhost:8080/"
        },
        "id": "1aS7hA1biGrh",
        "outputId": "5eab6cdd-cd6d-4eb2-b47d-10dd18ffd25d"
      },
      "outputs": [
        {
          "name": "stdout",
          "output_type": "stream",
          "text": [
            "Requirement already satisfied: pyarrow in /opt/anaconda3/lib/python3.9/site-packages (11.0.0)\n",
            "Requirement already satisfied: numpy>=1.16.6 in /opt/anaconda3/lib/python3.9/site-packages (from pyarrow) (1.21.5)\n"
          ]
        }
      ],
      "source": [
        "!pip install pyarrow\n",
        "import pyarrow.parquet as pq\n",
        "import pandas as pd\n",
        "import pyarrow.parquet as pq\n"
      ]
    },
    {
      "cell_type": "code",
      "execution_count": 50,
      "metadata": {
        "id": "U557wDhvnS4I"
      },
      "outputs": [],
      "source": [
        "# Abro el archivo Parquet en un DataFrame de pandas\n",
        "\n",
        "#df = pd.read_parquet('/content/PROYECTOINDIVIDUAL/data_ml.parquet') #COLAB\n",
        "df = pd.read_parquet('/Users/CarlaCarrasco/Desktop/PROYECTOINDIVIDUALUNO/data_ml.parquet') #VSC\n"
      ]
    },
    {
      "cell_type": "code",
      "execution_count": 51,
      "metadata": {
        "colab": {
          "base_uri": "https://localhost:8080/",
          "height": 693
        },
        "id": "VPQC_Gds1pMr",
        "outputId": "527e9447-f63a-42d9-acbf-8b5e44f3676d"
      },
      "outputs": [
        {
          "data": {
            "text/html": [
              "<div>\n",
              "<style scoped>\n",
              "    .dataframe tbody tr th:only-of-type {\n",
              "        vertical-align: middle;\n",
              "    }\n",
              "\n",
              "    .dataframe tbody tr th {\n",
              "        vertical-align: top;\n",
              "    }\n",
              "\n",
              "    .dataframe thead th {\n",
              "        text-align: right;\n",
              "    }\n",
              "</style>\n",
              "<table border=\"1\" class=\"dataframe\">\n",
              "  <thead>\n",
              "    <tr style=\"text-align: right;\">\n",
              "      <th></th>\n",
              "      <th>id</th>\n",
              "      <th>type</th>\n",
              "      <th>title</th>\n",
              "      <th>director</th>\n",
              "      <th>cast</th>\n",
              "      <th>country</th>\n",
              "      <th>date_added</th>\n",
              "      <th>year</th>\n",
              "      <th>rating</th>\n",
              "      <th>listed_in</th>\n",
              "      <th>description</th>\n",
              "      <th>duration_int</th>\n",
              "      <th>duration_type</th>\n",
              "      <th>scored</th>\n",
              "      <th>platform</th>\n",
              "      <th>userId</th>\n",
              "      <th>score</th>\n",
              "      <th>timestamp</th>\n",
              "    </tr>\n",
              "  </thead>\n",
              "  <tbody>\n",
              "    <tr>\n",
              "      <th>0</th>\n",
              "      <td>as1</td>\n",
              "      <td>movie</td>\n",
              "      <td>the grand seduction</td>\n",
              "      <td>don mckellar</td>\n",
              "      <td>brendan gleeson, taylor kitsch, gordon pinsent</td>\n",
              "      <td>canada</td>\n",
              "      <td>2021-03-30</td>\n",
              "      <td>2014</td>\n",
              "      <td>g</td>\n",
              "      <td>comedy, drama</td>\n",
              "      <td>a small fishing village must procure a local d...</td>\n",
              "      <td>113</td>\n",
              "      <td>min</td>\n",
              "      <td>3.47</td>\n",
              "      <td>amazon</td>\n",
              "      <td>543</td>\n",
              "      <td>5.0</td>\n",
              "      <td>2003-07-30</td>\n",
              "    </tr>\n",
              "    <tr>\n",
              "      <th>1</th>\n",
              "      <td>as1</td>\n",
              "      <td>movie</td>\n",
              "      <td>the grand seduction</td>\n",
              "      <td>don mckellar</td>\n",
              "      <td>brendan gleeson, taylor kitsch, gordon pinsent</td>\n",
              "      <td>canada</td>\n",
              "      <td>2021-03-30</td>\n",
              "      <td>2014</td>\n",
              "      <td>g</td>\n",
              "      <td>comedy, drama</td>\n",
              "      <td>a small fishing village must procure a local d...</td>\n",
              "      <td>113</td>\n",
              "      <td>min</td>\n",
              "      <td>3.47</td>\n",
              "      <td>amazon</td>\n",
              "      <td>595</td>\n",
              "      <td>3.0</td>\n",
              "      <td>1996-08-13</td>\n",
              "    </tr>\n",
              "    <tr>\n",
              "      <th>2</th>\n",
              "      <td>as1</td>\n",
              "      <td>movie</td>\n",
              "      <td>the grand seduction</td>\n",
              "      <td>don mckellar</td>\n",
              "      <td>brendan gleeson, taylor kitsch, gordon pinsent</td>\n",
              "      <td>canada</td>\n",
              "      <td>2021-03-30</td>\n",
              "      <td>2014</td>\n",
              "      <td>g</td>\n",
              "      <td>comedy, drama</td>\n",
              "      <td>a small fishing village must procure a local d...</td>\n",
              "      <td>113</td>\n",
              "      <td>min</td>\n",
              "      <td>3.47</td>\n",
              "      <td>amazon</td>\n",
              "      <td>611</td>\n",
              "      <td>3.0</td>\n",
              "      <td>2001-01-03</td>\n",
              "    </tr>\n",
              "    <tr>\n",
              "      <th>3</th>\n",
              "      <td>as1</td>\n",
              "      <td>movie</td>\n",
              "      <td>the grand seduction</td>\n",
              "      <td>don mckellar</td>\n",
              "      <td>brendan gleeson, taylor kitsch, gordon pinsent</td>\n",
              "      <td>canada</td>\n",
              "      <td>2021-03-30</td>\n",
              "      <td>2014</td>\n",
              "      <td>g</td>\n",
              "      <td>comedy, drama</td>\n",
              "      <td>a small fishing village must procure a local d...</td>\n",
              "      <td>113</td>\n",
              "      <td>min</td>\n",
              "      <td>3.47</td>\n",
              "      <td>amazon</td>\n",
              "      <td>2523</td>\n",
              "      <td>3.5</td>\n",
              "      <td>2012-06-25</td>\n",
              "    </tr>\n",
              "    <tr>\n",
              "      <th>4</th>\n",
              "      <td>as1</td>\n",
              "      <td>movie</td>\n",
              "      <td>the grand seduction</td>\n",
              "      <td>don mckellar</td>\n",
              "      <td>brendan gleeson, taylor kitsch, gordon pinsent</td>\n",
              "      <td>canada</td>\n",
              "      <td>2021-03-30</td>\n",
              "      <td>2014</td>\n",
              "      <td>g</td>\n",
              "      <td>comedy, drama</td>\n",
              "      <td>a small fishing village must procure a local d...</td>\n",
              "      <td>113</td>\n",
              "      <td>min</td>\n",
              "      <td>3.47</td>\n",
              "      <td>amazon</td>\n",
              "      <td>3082</td>\n",
              "      <td>4.0</td>\n",
              "      <td>2000-03-30</td>\n",
              "    </tr>\n",
              "  </tbody>\n",
              "</table>\n",
              "</div>"
            ],
            "text/plain": [
              "    id   type                title      director  \\\n",
              "0  as1  movie  the grand seduction  don mckellar   \n",
              "1  as1  movie  the grand seduction  don mckellar   \n",
              "2  as1  movie  the grand seduction  don mckellar   \n",
              "3  as1  movie  the grand seduction  don mckellar   \n",
              "4  as1  movie  the grand seduction  don mckellar   \n",
              "\n",
              "                                             cast country date_added  year  \\\n",
              "0  brendan gleeson, taylor kitsch, gordon pinsent  canada 2021-03-30  2014   \n",
              "1  brendan gleeson, taylor kitsch, gordon pinsent  canada 2021-03-30  2014   \n",
              "2  brendan gleeson, taylor kitsch, gordon pinsent  canada 2021-03-30  2014   \n",
              "3  brendan gleeson, taylor kitsch, gordon pinsent  canada 2021-03-30  2014   \n",
              "4  brendan gleeson, taylor kitsch, gordon pinsent  canada 2021-03-30  2014   \n",
              "\n",
              "  rating      listed_in                                        description  \\\n",
              "0      g  comedy, drama  a small fishing village must procure a local d...   \n",
              "1      g  comedy, drama  a small fishing village must procure a local d...   \n",
              "2      g  comedy, drama  a small fishing village must procure a local d...   \n",
              "3      g  comedy, drama  a small fishing village must procure a local d...   \n",
              "4      g  comedy, drama  a small fishing village must procure a local d...   \n",
              "\n",
              "   duration_int duration_type  scored platform  userId  score   timestamp  \n",
              "0           113           min    3.47   amazon     543    5.0  2003-07-30  \n",
              "1           113           min    3.47   amazon     595    3.0  1996-08-13  \n",
              "2           113           min    3.47   amazon     611    3.0  2001-01-03  \n",
              "3           113           min    3.47   amazon    2523    3.5  2012-06-25  \n",
              "4           113           min    3.47   amazon    3082    4.0  2000-03-30  "
            ]
          },
          "execution_count": 51,
          "metadata": {},
          "output_type": "execute_result"
        }
      ],
      "source": [
        "#Corroboro los datos del dataframe, como primera instancia.\n",
        "df.head()"
      ]
    },
    {
      "cell_type": "code",
      "execution_count": 52,
      "metadata": {
        "colab": {
          "base_uri": "https://localhost:8080/"
        },
        "id": "p0x2k9sB1zMA",
        "outputId": "aa58409b-bb4f-4413-a365-5067fd60e976"
      },
      "outputs": [
        {
          "name": "stdout",
          "output_type": "stream",
          "text": [
            "<class 'pandas.core.frame.DataFrame'>\n",
            "Int64Index: 11024289 entries, 0 to 11024288\n",
            "Data columns (total 18 columns):\n",
            " #   Column         Dtype         \n",
            "---  ------         -----         \n",
            " 0   id             object        \n",
            " 1   type           object        \n",
            " 2   title          object        \n",
            " 3   director       object        \n",
            " 4   cast           object        \n",
            " 5   country        object        \n",
            " 6   date_added     datetime64[ns]\n",
            " 7   year           int64         \n",
            " 8   rating         object        \n",
            " 9   listed_in      object        \n",
            " 10  description    object        \n",
            " 11  duration_int   int64         \n",
            " 12  duration_type  object        \n",
            " 13  scored         float64       \n",
            " 14  platform       object        \n",
            " 15  userId         int64         \n",
            " 16  score          float64       \n",
            " 17  timestamp      object        \n",
            "dtypes: datetime64[ns](1), float64(2), int64(3), object(12)\n",
            "memory usage: 1.6+ GB\n"
          ]
        }
      ],
      "source": [
        "df.info()"
      ]
    },
    {
      "cell_type": "markdown",
      "metadata": {
        "id": "CNpKKoSIRsLj"
      },
      "source": [
        "Compruebo primero que hay filas duplicadas. Mi decision es eliminarlas"
      ]
    },
    {
      "cell_type": "code",
      "execution_count": 53,
      "metadata": {
        "colab": {
          "base_uri": "https://localhost:8080/"
        },
        "id": "PHZxqfB9QOVp",
        "outputId": "843117a9-b6ce-45f5-aafd-344cd639e146"
      },
      "outputs": [
        {
          "name": "stdout",
          "output_type": "stream",
          "text": [
            "El total de datos duplicados en el dataset es de:  10466\n"
          ]
        }
      ],
      "source": [
        "print(\"El total de datos duplicados en el dataset es de: \", df.duplicated().sum())\n"
      ]
    },
    {
      "cell_type": "code",
      "execution_count": 54,
      "metadata": {
        "id": "_TSnlpelRi-w"
      },
      "outputs": [],
      "source": [
        "df.drop_duplicates(inplace = True)\n"
      ]
    },
    {
      "cell_type": "code",
      "execution_count": 55,
      "metadata": {
        "colab": {
          "base_uri": "https://localhost:8080/"
        },
        "id": "Ky6FSNTjSYAN",
        "outputId": "6b7d43a6-d1ce-4dd3-fc42-c6db13b70c6f"
      },
      "outputs": [
        {
          "name": "stdout",
          "output_type": "stream",
          "text": [
            "<class 'pandas.core.frame.DataFrame'>\n",
            "Int64Index: 11013823 entries, 0 to 11024288\n",
            "Data columns (total 18 columns):\n",
            " #   Column         Dtype         \n",
            "---  ------         -----         \n",
            " 0   id             object        \n",
            " 1   type           object        \n",
            " 2   title          object        \n",
            " 3   director       object        \n",
            " 4   cast           object        \n",
            " 5   country        object        \n",
            " 6   date_added     datetime64[ns]\n",
            " 7   year           int64         \n",
            " 8   rating         object        \n",
            " 9   listed_in      object        \n",
            " 10  description    object        \n",
            " 11  duration_int   int64         \n",
            " 12  duration_type  object        \n",
            " 13  scored         float64       \n",
            " 14  platform       object        \n",
            " 15  userId         int64         \n",
            " 16  score          float64       \n",
            " 17  timestamp      object        \n",
            "dtypes: datetime64[ns](1), float64(2), int64(3), object(12)\n",
            "memory usage: 1.6+ GB\n"
          ]
        }
      ],
      "source": [
        "#Corroboro la información al respecto.\n",
        "df.info()\n",
        "\n"
      ]
    },
    {
      "cell_type": "code",
      "execution_count": 56,
      "metadata": {
        "colab": {
          "base_uri": "https://localhost:8080/"
        },
        "id": "nEvlIvwOT2G6",
        "outputId": "e0a3398f-fd60-4faf-c3e6-cee0965154c9"
      },
      "outputs": [
        {
          "name": "stdout",
          "output_type": "stream",
          "text": [
            "El total de datos duplicados en el dataset es de:  0\n"
          ]
        }
      ],
      "source": [
        "print(\"El total de datos duplicados en el dataset es de: \", df.duplicated().sum())"
      ]
    },
    {
      "attachments": {},
      "cell_type": "markdown",
      "metadata": {
        "id": "bXTffK20pTkz"
      },
      "source": [
        "## **EDA**"
      ]
    },
    {
      "cell_type": "markdown",
      "metadata": {
        "id": "eLgA5Ygu12WC"
      },
      "source": [
        "Comienzo a **explorar** y **transformar**\n",
        "\n",
        "\n",
        "Para esto, voy a modificar columnas y también hacer cambios en datos, explorando las relaciones de mis datos.\n",
        "\n",
        "Determino que las variables en entorno a las que va a girar mi modelo de ML, son lps **'id'** y **'title'**:\n"
      ]
    },
    {
      "attachments": {},
      "cell_type": "markdown",
      "metadata": {
        "id": "njpd-WeWvU4x"
      },
      "source": [
        "### **Análisis de contenido por plataforma**"
      ]
    },
    {
      "cell_type": "code",
      "execution_count": 57,
      "metadata": {
        "colab": {
          "base_uri": "https://localhost:8080/",
          "height": 54
        },
        "id": "-ck4CrHWvUj9",
        "outputId": "1e1eaab8-8308-40c7-9a2b-a5a4fab3e60f"
      },
      "outputs": [
        {
          "data": {
            "image/png": "[encoded data removed]",
            "text/plain": [
              "<Figure size 640x480 with 1 Axes>"
            ]
          },
          "metadata": {},
          "output_type": "display_data"
        }
      ],
      "source": [
        "frecuencia = df['platform'].value_counts()\n",
        "import matplotlib.pyplot as plt\n",
        "\n",
        "plt.bar(frecuencia.index, frecuencia.values, color = 'pink')\n",
        "plt.xlabel('Platform')\n",
        "plt.ylabel('Quantity')\n",
        "plt.title('Content of platforms')\n",
        "plt.show()"
      ]
    },
    {
      "attachments": {},
      "cell_type": "markdown",
      "metadata": {
        "id": "omPlAx7Io1HU"
      },
      "source": [
        "### **Análisis de contenido por país**"
      ]
    },
    {
      "cell_type": "markdown",
      "metadata": {
        "id": "MmBQFOQgYgWi"
      },
      "source": [
        "Agrupo los datos por país de elaboración de contenido y cuento el número de títulos en cada grupo. Para ver cuales sonn los mayores creadores de contenido. Debido a que la cantidad de paises son muchos, lo reduzco a los diez primeros."
      ]
    },
    {
      "cell_type": "code",
      "execution_count": 58,
      "metadata": {
        "id": "xw461O5zXbm2"
      },
      "outputs": [],
      "source": [
        "datos_agrupados = df.groupby(\"country\")[\"title\"].count()\n",
        "datos_agrupados = datos_agrupados.sort_values(ascending=False)[:10]"
      ]
    },
    {
      "cell_type": "code",
      "execution_count": 59,
      "metadata": {
        "colab": {
          "base_uri": "https://localhost:8080/",
          "height": 54
        },
        "id": "fU6nfeC_YtTL",
        "outputId": "e6144394-0635-4e89-c325-82f35f6ac8ab"
      },
      "outputs": [
        {
          "data": {
            "image/png": "[encoded data removed]",
            "text/plain": [
              "<Figure size 640x480 with 1 Axes>"
            ]
          },
          "metadata": {},
          "output_type": "display_data"
        }
      ],
      "source": [
        "import matplotlib.pyplot as plt\n",
        "\n",
        "plt.bar(datos_agrupados.index, datos_agrupados.values, color= 'pink')\n",
        "plt.xlabel(\"Country\")\n",
        "plt.ylabel(\"Numbers of titles\")\n",
        "plt.title(\"Top 10 country creators\")\n",
        "plt.xticks(rotation=90)\n",
        "plt.show()\n"
      ]
    },
    {
      "attachments": {},
      "cell_type": "markdown",
      "metadata": {
        "id": "7Scy_tNmpG9y"
      },
      "source": [
        "###  **Análisis de usuarios**"
      ]
    },
    {
      "cell_type": "markdown",
      "metadata": {
        "id": "yN87N_uYdCSR"
      },
      "source": [
        "Calificaciones de contenido por usuario, me permite saber un poco mas cuales son los mas activos"
      ]
    },
    {
      "cell_type": "code",
      "execution_count": 60,
      "metadata": {
        "colab": {
          "base_uri": "https://localhost:8080/",
          "height": 299
        },
        "id": "LbzBYGeHbTIe",
        "outputId": "36c3d8bb-6322-42bf-811a-b6477c17ec52"
      },
      "outputs": [
        {
          "data": {
            "text/html": [
              "<div>\n",
              "<style scoped>\n",
              "    .dataframe tbody tr th:only-of-type {\n",
              "        vertical-align: middle;\n",
              "    }\n",
              "\n",
              "    .dataframe tbody tr th {\n",
              "        vertical-align: top;\n",
              "    }\n",
              "\n",
              "    .dataframe thead th {\n",
              "        text-align: right;\n",
              "    }\n",
              "</style>\n",
              "<table border=\"1\" class=\"dataframe\">\n",
              "  <thead>\n",
              "    <tr style=\"text-align: right;\">\n",
              "      <th></th>\n",
              "      <th>id</th>\n",
              "      <th>type</th>\n",
              "      <th>title</th>\n",
              "      <th>director</th>\n",
              "      <th>cast</th>\n",
              "      <th>country</th>\n",
              "      <th>date_added</th>\n",
              "      <th>year</th>\n",
              "      <th>rating</th>\n",
              "      <th>listed_in</th>\n",
              "      <th>description</th>\n",
              "      <th>duration_int</th>\n",
              "      <th>duration_type</th>\n",
              "      <th>scored</th>\n",
              "      <th>platform</th>\n",
              "      <th>score</th>\n",
              "      <th>timestamp</th>\n",
              "    </tr>\n",
              "    <tr>\n",
              "      <th>userId</th>\n",
              "      <th></th>\n",
              "      <th></th>\n",
              "      <th></th>\n",
              "      <th></th>\n",
              "      <th></th>\n",
              "      <th></th>\n",
              "      <th></th>\n",
              "      <th></th>\n",
              "      <th></th>\n",
              "      <th></th>\n",
              "      <th></th>\n",
              "      <th></th>\n",
              "      <th></th>\n",
              "      <th></th>\n",
              "      <th></th>\n",
              "      <th></th>\n",
              "      <th></th>\n",
              "    </tr>\n",
              "  </thead>\n",
              "  <tbody>\n",
              "    <tr>\n",
              "      <th>1</th>\n",
              "      <td>27</td>\n",
              "      <td>27</td>\n",
              "      <td>27</td>\n",
              "      <td>16</td>\n",
              "      <td>22</td>\n",
              "      <td>16</td>\n",
              "      <td>17</td>\n",
              "      <td>27</td>\n",
              "      <td>27</td>\n",
              "      <td>27</td>\n",
              "      <td>27</td>\n",
              "      <td>27</td>\n",
              "      <td>27</td>\n",
              "      <td>27</td>\n",
              "      <td>27</td>\n",
              "      <td>27</td>\n",
              "      <td>27</td>\n",
              "    </tr>\n",
              "    <tr>\n",
              "      <th>2</th>\n",
              "      <td>22</td>\n",
              "      <td>22</td>\n",
              "      <td>22</td>\n",
              "      <td>9</td>\n",
              "      <td>14</td>\n",
              "      <td>13</td>\n",
              "      <td>16</td>\n",
              "      <td>22</td>\n",
              "      <td>22</td>\n",
              "      <td>22</td>\n",
              "      <td>22</td>\n",
              "      <td>22</td>\n",
              "      <td>22</td>\n",
              "      <td>22</td>\n",
              "      <td>22</td>\n",
              "      <td>22</td>\n",
              "      <td>22</td>\n",
              "    </tr>\n",
              "    <tr>\n",
              "      <th>3</th>\n",
              "      <td>10</td>\n",
              "      <td>10</td>\n",
              "      <td>10</td>\n",
              "      <td>6</td>\n",
              "      <td>6</td>\n",
              "      <td>4</td>\n",
              "      <td>6</td>\n",
              "      <td>10</td>\n",
              "      <td>10</td>\n",
              "      <td>10</td>\n",
              "      <td>10</td>\n",
              "      <td>10</td>\n",
              "      <td>10</td>\n",
              "      <td>10</td>\n",
              "      <td>10</td>\n",
              "      <td>10</td>\n",
              "      <td>10</td>\n",
              "    </tr>\n",
              "    <tr>\n",
              "      <th>4</th>\n",
              "      <td>62</td>\n",
              "      <td>62</td>\n",
              "      <td>62</td>\n",
              "      <td>38</td>\n",
              "      <td>45</td>\n",
              "      <td>33</td>\n",
              "      <td>43</td>\n",
              "      <td>62</td>\n",
              "      <td>62</td>\n",
              "      <td>62</td>\n",
              "      <td>62</td>\n",
              "      <td>62</td>\n",
              "      <td>62</td>\n",
              "      <td>62</td>\n",
              "      <td>62</td>\n",
              "      <td>62</td>\n",
              "      <td>62</td>\n",
              "    </tr>\n",
              "    <tr>\n",
              "      <th>5</th>\n",
              "      <td>26</td>\n",
              "      <td>26</td>\n",
              "      <td>26</td>\n",
              "      <td>11</td>\n",
              "      <td>19</td>\n",
              "      <td>14</td>\n",
              "      <td>17</td>\n",
              "      <td>26</td>\n",
              "      <td>26</td>\n",
              "      <td>26</td>\n",
              "      <td>26</td>\n",
              "      <td>26</td>\n",
              "      <td>26</td>\n",
              "      <td>26</td>\n",
              "      <td>26</td>\n",
              "      <td>26</td>\n",
              "      <td>26</td>\n",
              "    </tr>\n",
              "  </tbody>\n",
              "</table>\n",
              "</div>"
            ],
            "text/plain": [
              "        id  type  title  director  cast  country  date_added  year  rating  \\\n",
              "userId                                                                       \n",
              "1       27    27     27        16    22       16          17    27      27   \n",
              "2       22    22     22         9    14       13          16    22      22   \n",
              "3       10    10     10         6     6        4           6    10      10   \n",
              "4       62    62     62        38    45       33          43    62      62   \n",
              "5       26    26     26        11    19       14          17    26      26   \n",
              "\n",
              "        listed_in  description  duration_int  duration_type  scored  platform  \\\n",
              "userId                                                                          \n",
              "1              27           27            27             27      27        27   \n",
              "2              22           22            22             22      22        22   \n",
              "3              10           10            10             10      10        10   \n",
              "4              62           62            62             62      62        62   \n",
              "5              26           26            26             26      26        26   \n",
              "\n",
              "        score  timestamp  \n",
              "userId                    \n",
              "1          27         27  \n",
              "2          22         22  \n",
              "3          10         10  \n",
              "4          62         62  \n",
              "5          26         26  "
            ]
          },
          "execution_count": 60,
          "metadata": {},
          "output_type": "execute_result"
        }
      ],
      "source": [
        "df_1 = df.groupby(\"userId\").count()\n",
        "df_1 = df_1.head(10)\n",
        "df_1.head()"
      ]
    },
    {
      "attachments": {},
      "cell_type": "markdown",
      "metadata": {
        "id": "Vego5jp1qef0"
      },
      "source": [
        "### **Análisis de títulos y calificaciones**"
      ]
    },
    {
      "cell_type": "markdown",
      "metadata": {
        "id": "8QcU3NNfkHYL"
      },
      "source": [
        "Determinamos el **'title'** con más calificaciones."
      ]
    },
    {
      "cell_type": "code",
      "execution_count": 61,
      "metadata": {
        "colab": {
          "base_uri": "https://localhost:8080/"
        },
        "id": "2AFi3DPPkFCb",
        "outputId": "05ff1e0c-f591-4b3d-9d64-ad0e0a7d281b"
      },
      "outputs": [
        {
          "data": {
            "text/plain": [
              "title\n",
              "married at first sight       1935\n",
              "moesha                       1524\n",
              "national treasure            1501\n",
              "america's book of secrets    1482\n",
              "cold case files              1482\n",
              "Name: score, dtype: int64"
            ]
          },
          "execution_count": 61,
          "metadata": {},
          "output_type": "execute_result"
        }
      ],
      "source": [
        "df_more = df.groupby('title')['score'].count().sort_values(ascending=False)\n",
        "df_more.head()"
      ]
    },
    {
      "attachments": {},
      "cell_type": "markdown",
      "metadata": {
        "id": "Q_3Pt05Fp4Ee"
      },
      "source": [
        "### **Análisis de la columna *'type'***"
      ]
    },
    {
      "cell_type": "markdown",
      "metadata": {
        "id": "XNSAhSr1l3JR"
      },
      "source": [
        "Distribucion de valores en la columna **'type'**"
      ]
    },
    {
      "cell_type": "code",
      "execution_count": 62,
      "metadata": {
        "colab": {
          "base_uri": "https://localhost:8080/",
          "height": 54
        },
        "id": "HozIE_M-l2PN",
        "outputId": "c9a8cccc-215d-4fc0-ed43-f1bb5c42ead7"
      },
      "outputs": [
        {
          "data": {
            "image/png": "[encoded data removed]",
            "text/plain": [
              "<Figure size 640x480 with 1 Axes>"
            ]
          },
          "metadata": {},
          "output_type": "display_data"
        }
      ],
      "source": [
        "frecuencia = df['type'].value_counts()\n",
        "\n",
        "plt.bar(frecuencia.index, frecuencia.values, color = 'pink')\n",
        "plt.xlabel('Value')\n",
        "plt.ylabel('Quantity')\n",
        "plt.title('Values distribution')\n",
        "plt.show()\n"
      ]
    },
    {
      "attachments": {},
      "cell_type": "markdown",
      "metadata": {
        "id": "Sf6sUyJ-qL4a"
      },
      "source": [
        "### **Análisis de contenido por popularidad**"
      ]
    },
    {
      "cell_type": "code",
      "execution_count": 63,
      "metadata": {
        "colab": {
          "base_uri": "https://localhost:8080/",
          "height": 692
        },
        "id": "QM5RRwpeemvg",
        "outputId": "bdf12ab0-8368-4023-e69f-8c7e40e9fd00"
      },
      "outputs": [
        {
          "data": {
            "text/html": [
              "<div>\n",
              "<style scoped>\n",
              "    .dataframe tbody tr th:only-of-type {\n",
              "        vertical-align: middle;\n",
              "    }\n",
              "\n",
              "    .dataframe tbody tr th {\n",
              "        vertical-align: top;\n",
              "    }\n",
              "\n",
              "    .dataframe thead th {\n",
              "        text-align: right;\n",
              "    }\n",
              "</style>\n",
              "<table border=\"1\" class=\"dataframe\">\n",
              "  <thead>\n",
              "    <tr style=\"text-align: right;\">\n",
              "      <th></th>\n",
              "      <th>id</th>\n",
              "      <th>type</th>\n",
              "      <th>director</th>\n",
              "      <th>cast</th>\n",
              "      <th>country</th>\n",
              "      <th>date_added</th>\n",
              "      <th>year</th>\n",
              "      <th>rating</th>\n",
              "      <th>listed_in</th>\n",
              "      <th>description</th>\n",
              "      <th>duration_int</th>\n",
              "      <th>duration_type</th>\n",
              "      <th>high_scored</th>\n",
              "      <th>platform</th>\n",
              "      <th>userId</th>\n",
              "      <th>score</th>\n",
              "      <th>timestamp</th>\n",
              "    </tr>\n",
              "    <tr>\n",
              "      <th>title</th>\n",
              "      <th></th>\n",
              "      <th></th>\n",
              "      <th></th>\n",
              "      <th></th>\n",
              "      <th></th>\n",
              "      <th></th>\n",
              "      <th></th>\n",
              "      <th></th>\n",
              "      <th></th>\n",
              "      <th></th>\n",
              "      <th></th>\n",
              "      <th></th>\n",
              "      <th></th>\n",
              "      <th></th>\n",
              "      <th></th>\n",
              "      <th></th>\n",
              "      <th></th>\n",
              "    </tr>\n",
              "  </thead>\n",
              "  <tbody>\n",
              "    <tr>\n",
              "      <th>married at first sight</th>\n",
              "      <td>1935</td>\n",
              "      <td>1935</td>\n",
              "      <td>0</td>\n",
              "      <td>1467</td>\n",
              "      <td>987</td>\n",
              "      <td>987</td>\n",
              "      <td>1935</td>\n",
              "      <td>1935</td>\n",
              "      <td>1935</td>\n",
              "      <td>1935</td>\n",
              "      <td>1935</td>\n",
              "      <td>1935</td>\n",
              "      <td>1935</td>\n",
              "      <td>1935</td>\n",
              "      <td>1935</td>\n",
              "      <td>1935</td>\n",
              "      <td>1935</td>\n",
              "    </tr>\n",
              "    <tr>\n",
              "      <th>moesha</th>\n",
              "      <td>1524</td>\n",
              "      <td>1524</td>\n",
              "      <td>0</td>\n",
              "      <td>506</td>\n",
              "      <td>1017</td>\n",
              "      <td>1017</td>\n",
              "      <td>1524</td>\n",
              "      <td>1524</td>\n",
              "      <td>1524</td>\n",
              "      <td>1524</td>\n",
              "      <td>1524</td>\n",
              "      <td>1524</td>\n",
              "      <td>1524</td>\n",
              "      <td>1524</td>\n",
              "      <td>1524</td>\n",
              "      <td>1524</td>\n",
              "      <td>1524</td>\n",
              "    </tr>\n",
              "    <tr>\n",
              "      <th>national treasure</th>\n",
              "      <td>1501</td>\n",
              "      <td>1501</td>\n",
              "      <td>1021</td>\n",
              "      <td>1021</td>\n",
              "      <td>1501</td>\n",
              "      <td>1501</td>\n",
              "      <td>1501</td>\n",
              "      <td>1501</td>\n",
              "      <td>1501</td>\n",
              "      <td>1501</td>\n",
              "      <td>1501</td>\n",
              "      <td>1501</td>\n",
              "      <td>1501</td>\n",
              "      <td>1501</td>\n",
              "      <td>1501</td>\n",
              "      <td>1501</td>\n",
              "      <td>1501</td>\n",
              "    </tr>\n",
              "    <tr>\n",
              "      <th>america's book of secrets</th>\n",
              "      <td>1482</td>\n",
              "      <td>1482</td>\n",
              "      <td>0</td>\n",
              "      <td>999</td>\n",
              "      <td>964</td>\n",
              "      <td>964</td>\n",
              "      <td>1482</td>\n",
              "      <td>1482</td>\n",
              "      <td>1482</td>\n",
              "      <td>1482</td>\n",
              "      <td>1482</td>\n",
              "      <td>1482</td>\n",
              "      <td>1482</td>\n",
              "      <td>1482</td>\n",
              "      <td>1482</td>\n",
              "      <td>1482</td>\n",
              "      <td>1482</td>\n",
              "    </tr>\n",
              "    <tr>\n",
              "      <th>cold case files</th>\n",
              "      <td>1482</td>\n",
              "      <td>1482</td>\n",
              "      <td>0</td>\n",
              "      <td>483</td>\n",
              "      <td>999</td>\n",
              "      <td>999</td>\n",
              "      <td>1482</td>\n",
              "      <td>1482</td>\n",
              "      <td>1482</td>\n",
              "      <td>1482</td>\n",
              "      <td>1482</td>\n",
              "      <td>1482</td>\n",
              "      <td>1482</td>\n",
              "      <td>1482</td>\n",
              "      <td>1482</td>\n",
              "      <td>1482</td>\n",
              "      <td>1482</td>\n",
              "    </tr>\n",
              "    <tr>\n",
              "      <th>four weddings and a funeral</th>\n",
              "      <td>1481</td>\n",
              "      <td>1481</td>\n",
              "      <td>972</td>\n",
              "      <td>972</td>\n",
              "      <td>1007</td>\n",
              "      <td>1007</td>\n",
              "      <td>1481</td>\n",
              "      <td>1481</td>\n",
              "      <td>1481</td>\n",
              "      <td>1481</td>\n",
              "      <td>1481</td>\n",
              "      <td>1481</td>\n",
              "      <td>1481</td>\n",
              "      <td>1481</td>\n",
              "      <td>1481</td>\n",
              "      <td>1481</td>\n",
              "      <td>1481</td>\n",
              "    </tr>\n",
              "    <tr>\n",
              "      <th>yu-gi-oh! arc-v</th>\n",
              "      <td>1480</td>\n",
              "      <td>1480</td>\n",
              "      <td>0</td>\n",
              "      <td>1028</td>\n",
              "      <td>494</td>\n",
              "      <td>946</td>\n",
              "      <td>1480</td>\n",
              "      <td>1480</td>\n",
              "      <td>1480</td>\n",
              "      <td>1480</td>\n",
              "      <td>1480</td>\n",
              "      <td>1480</td>\n",
              "      <td>1480</td>\n",
              "      <td>1480</td>\n",
              "      <td>1480</td>\n",
              "      <td>1480</td>\n",
              "      <td>1480</td>\n",
              "    </tr>\n",
              "    <tr>\n",
              "      <th>the girl with the dragon tattoo</th>\n",
              "      <td>1480</td>\n",
              "      <td>1480</td>\n",
              "      <td>988</td>\n",
              "      <td>988</td>\n",
              "      <td>988</td>\n",
              "      <td>1000</td>\n",
              "      <td>1480</td>\n",
              "      <td>1480</td>\n",
              "      <td>1480</td>\n",
              "      <td>1480</td>\n",
              "      <td>1480</td>\n",
              "      <td>1480</td>\n",
              "      <td>1480</td>\n",
              "      <td>1480</td>\n",
              "      <td>1480</td>\n",
              "      <td>1480</td>\n",
              "      <td>1480</td>\n",
              "    </tr>\n",
              "    <tr>\n",
              "      <th>merlin</th>\n",
              "      <td>1475</td>\n",
              "      <td>1475</td>\n",
              "      <td>482</td>\n",
              "      <td>1004</td>\n",
              "      <td>953</td>\n",
              "      <td>953</td>\n",
              "      <td>1475</td>\n",
              "      <td>1475</td>\n",
              "      <td>1475</td>\n",
              "      <td>1475</td>\n",
              "      <td>1475</td>\n",
              "      <td>1475</td>\n",
              "      <td>1475</td>\n",
              "      <td>1475</td>\n",
              "      <td>1475</td>\n",
              "      <td>1475</td>\n",
              "      <td>1475</td>\n",
              "    </tr>\n",
              "    <tr>\n",
              "      <th>good kisser</th>\n",
              "      <td>1473</td>\n",
              "      <td>1473</td>\n",
              "      <td>1020</td>\n",
              "      <td>1020</td>\n",
              "      <td>513</td>\n",
              "      <td>966</td>\n",
              "      <td>1473</td>\n",
              "      <td>1473</td>\n",
              "      <td>1473</td>\n",
              "      <td>1473</td>\n",
              "      <td>1473</td>\n",
              "      <td>1473</td>\n",
              "      <td>1473</td>\n",
              "      <td>1473</td>\n",
              "      <td>1473</td>\n",
              "      <td>1473</td>\n",
              "      <td>1473</td>\n",
              "    </tr>\n",
              "  </tbody>\n",
              "</table>\n",
              "</div>"
            ],
            "text/plain": [
              "                                   id  type  director  cast  country  \\\n",
              "title                                                                  \n",
              "married at first sight           1935  1935         0  1467      987   \n",
              "moesha                           1524  1524         0   506     1017   \n",
              "national treasure                1501  1501      1021  1021     1501   \n",
              "america's book of secrets        1482  1482         0   999      964   \n",
              "cold case files                  1482  1482         0   483      999   \n",
              "four weddings and a funeral      1481  1481       972   972     1007   \n",
              "yu-gi-oh! arc-v                  1480  1480         0  1028      494   \n",
              "the girl with the dragon tattoo  1480  1480       988   988      988   \n",
              "merlin                           1475  1475       482  1004      953   \n",
              "good kisser                      1473  1473      1020  1020      513   \n",
              "\n",
              "                                 date_added  year  rating  listed_in  \\\n",
              "title                                                                  \n",
              "married at first sight                  987  1935    1935       1935   \n",
              "moesha                                 1017  1524    1524       1524   \n",
              "national treasure                      1501  1501    1501       1501   \n",
              "america's book of secrets               964  1482    1482       1482   \n",
              "cold case files                         999  1482    1482       1482   \n",
              "four weddings and a funeral            1007  1481    1481       1481   \n",
              "yu-gi-oh! arc-v                         946  1480    1480       1480   \n",
              "the girl with the dragon tattoo        1000  1480    1480       1480   \n",
              "merlin                                  953  1475    1475       1475   \n",
              "good kisser                             966  1473    1473       1473   \n",
              "\n",
              "                                 description  duration_int  duration_type  \\\n",
              "title                                                                       \n",
              "married at first sight                  1935          1935           1935   \n",
              "moesha                                  1524          1524           1524   \n",
              "national treasure                       1501          1501           1501   \n",
              "america's book of secrets               1482          1482           1482   \n",
              "cold case files                         1482          1482           1482   \n",
              "four weddings and a funeral             1481          1481           1481   \n",
              "yu-gi-oh! arc-v                         1480          1480           1480   \n",
              "the girl with the dragon tattoo         1480          1480           1480   \n",
              "merlin                                  1475          1475           1475   \n",
              "good kisser                             1473          1473           1473   \n",
              "\n",
              "                                 high_scored  platform  userId  score  \\\n",
              "title                                                                   \n",
              "married at first sight                  1935      1935    1935   1935   \n",
              "moesha                                  1524      1524    1524   1524   \n",
              "national treasure                       1501      1501    1501   1501   \n",
              "america's book of secrets               1482      1482    1482   1482   \n",
              "cold case files                         1482      1482    1482   1482   \n",
              "four weddings and a funeral             1481      1481    1481   1481   \n",
              "yu-gi-oh! arc-v                         1480      1480    1480   1480   \n",
              "the girl with the dragon tattoo         1480      1480    1480   1480   \n",
              "merlin                                  1475      1475    1475   1475   \n",
              "good kisser                             1473      1473    1473   1473   \n",
              "\n",
              "                                 timestamp  \n",
              "title                                       \n",
              "married at first sight                1935  \n",
              "moesha                                1524  \n",
              "national treasure                     1501  \n",
              "america's book of secrets             1482  \n",
              "cold case files                       1482  \n",
              "four weddings and a funeral           1481  \n",
              "yu-gi-oh! arc-v                       1480  \n",
              "the girl with the dragon tattoo       1480  \n",
              "merlin                                1475  \n",
              "good kisser                           1473  "
            ]
          },
          "execution_count": 63,
          "metadata": {},
          "output_type": "execute_result"
        }
      ],
      "source": [
        "df_titulos= df.groupby(['title']).count()\n",
        "df_titulos.sort_values('scored', ascending = False, inplace = True)\n",
        "df_titulos = df_titulos.rename(columns={'scored': 'high_scored'})\n",
        "df_titulos.head(10)"
      ]
    },
    {
      "cell_type": "code",
      "execution_count": 64,
      "metadata": {
        "colab": {
          "base_uri": "https://localhost:8080/",
          "height": 54
        },
        "id": "rw0A5d7zgo-C",
        "outputId": "3a1652a3-f956-4a0f-9729-d0d714e82472"
      },
      "outputs": [
        {
          "data": {
            "image/png": "[encoded data removed]",
            "text/plain": [
              "<Figure size 800x400 with 1 Axes>"
            ]
          },
          "metadata": {},
          "output_type": "display_data"
        }
      ],
      "source": [
        "plt.figure(figsize = (8,4))\n",
        "\n",
        "df_titulos.high_scored[df_titulos.high_scored<1000].hist(bins = 50, color = 'pink')\n",
        "plt.xlabel('Quantity title')\n",
        "plt.ylabel('Quantity high scored')\n",
        "plt.title('High scored distribution')\n",
        "\n",
        "plt.show()"
      ]
    },
    {
      "attachments": {},
      "cell_type": "markdown",
      "metadata": {
        "id": "6csZorV4rA7J"
      },
      "source": [
        "### **Análisis de rating de contenido**"
      ]
    },
    {
      "cell_type": "code",
      "execution_count": 65,
      "metadata": {
        "colab": {
          "base_uri": "https://localhost:8080/",
          "height": 54
        },
        "id": "c9_OXn1osLlP",
        "outputId": "6d297c1a-0ae0-462f-a212-d456f0e500c0"
      },
      "outputs": [
        {
          "data": {
            "image/png": "[encoded data removed]",
            "text/plain": [
              "<Figure size 1200x1000 with 1 Axes>"
            ]
          },
          "metadata": {},
          "output_type": "display_data"
        }
      ],
      "source": [
        "import seaborn as sns\n",
        "plt.figure(figsize=(12,10))\n",
        "sns.set(style=\"whitegrid\")\n",
        "ax = sns.countplot(x=\"rating\", data= df, palette=\"Pastel2_r\", order=df['rating'].value_counts().index[0:15])"
      ]
    },
    {
      "cell_type": "markdown",
      "metadata": {
        "id": "38XnRIyJuDth"
      },
      "source": [
        "La mayor cantidad de contenido se realiza con la calificación 'TV-MA' es una calificación asignada a contenido que fue diseñado solo para usuarios mayores.\n",
        "\n",
        "El segundo más grande es el 'TV-14' que significa contenido que puede ser inapropiado para niños menores de 14 años.\n",
        "\n",
        "La tercera más grande es la muy popular clasificación 'R'. Una película con clasificación R es una película que ha sido evaluada por la Motion Picture Association of America como que tiene material que puede ser inadecuado para niños menores de 17 años; la MPAA escribe \"Los menores de 17 años requieren un padre o tutor adulto que los acompañe\"."
      ]
    },
    {
      "attachments": {},
      "cell_type": "markdown",
      "metadata": {
        "id": "8BHaEK8trLAN"
      },
      "source": [
        "### **Análisis de creacion del contenido**"
      ]
    },
    {
      "cell_type": "code",
      "execution_count": 66,
      "metadata": {
        "colab": {
          "base_uri": "https://localhost:8080/"
        },
        "id": "U43T_FAOEFVJ",
        "outputId": "bf1a1822-2e28-4d60-96fe-43cca64b88a9"
      },
      "outputs": [
        {
          "data": {
            "text/plain": [
              "array([2014, 2018, 2017, 1989, 2016, 1994, 2020, 2019, 2008, 2001, 1941,\n",
              "       1991, 2005, 2015, 2011, 2013, 1949, 2007, 2002, 1955, 1959, 1983,\n",
              "       2009, 2012, 2010, 1986, 1988, 1920, 1936, 1992, 2021, 1993, 2006,\n",
              "       1948, 1946, 1944, 1935, 1985, 1937, 1970, 1945, 1939, 1996, 1997,\n",
              "       1974, 1938, 1978, 2004, 1943, 1975, 1960, 1934, 1940, 1961, 2003,\n",
              "       2000, 1967, 1995, 1951, 1932, 1999, 1963, 1969, 1952, 1947, 1929,\n",
              "       1990, 1925, 1968, 1987, 1942, 1979, 1980, 1981, 1976, 1966, 1973,\n",
              "       1956, 1972, 1950, 1953, 1982, 1977, 1933, 1958, 1984, 1998, 1924,\n",
              "       1922, 1926, 1954, 1930, 1971, 1965, 1931, 1923, 1962, 1964, 1957,\n",
              "       1927, 1928])"
            ]
          },
          "execution_count": 66,
          "metadata": {},
          "output_type": "execute_result"
        }
      ],
      "source": [
        "df['year'].unique()"
      ]
    },
    {
      "cell_type": "code",
      "execution_count": 67,
      "metadata": {
        "id": "rWeUM4iexVvv"
      },
      "outputs": [],
      "source": [
        "content_year=df[[ 'year', 'title']]"
      ]
    },
    {
      "cell_type": "code",
      "execution_count": 68,
      "metadata": {
        "colab": {
          "base_uri": "https://localhost:8080/"
        },
        "id": "jgp9htHREXko",
        "outputId": "c5e39eba-b3aa-4c99-9d6e-6e37eedf4372"
      },
      "outputs": [
        {
          "data": {
            "text/plain": [
              "array([2014, 2018, 2017, 1989, 2016, 1994, 2020, 2019, 2008, 2001, 1941,\n",
              "       1991, 2005, 2015, 2011, 2013, 1949, 2007, 2002, 1955, 1959, 1983,\n",
              "       2009, 2012, 2010, 1986, 1988, 1920, 1936, 1992, 2021, 1993, 2006,\n",
              "       1948, 1946, 1944, 1935, 1985, 1937, 1970, 1945, 1939, 1996, 1997,\n",
              "       1974, 1938, 1978, 2004, 1943, 1975, 1960, 1934, 1940, 1961, 2003,\n",
              "       2000, 1967, 1995, 1951, 1932, 1999, 1963, 1969, 1952, 1947, 1929,\n",
              "       1990, 1925, 1968, 1987, 1942, 1979, 1980, 1981, 1976, 1966, 1973,\n",
              "       1956, 1972, 1950, 1953, 1982, 1977, 1933, 1958, 1984, 1998, 1924,\n",
              "       1922, 1926, 1954, 1930, 1971, 1965, 1931, 1923, 1962, 1964, 1957,\n",
              "       1927, 1928])"
            ]
          },
          "execution_count": 68,
          "metadata": {},
          "output_type": "execute_result"
        }
      ],
      "source": [
        "content_year['year'].unique()"
      ]
    },
    {
      "cell_type": "code",
      "execution_count": 69,
      "metadata": {
        "id": "oJEVF4PrAd00"
      },
      "outputs": [],
      "source": [
        "content_year = content_year.drop_duplicates(subset='title')"
      ]
    },
    {
      "cell_type": "code",
      "execution_count": 70,
      "metadata": {
        "colab": {
          "base_uri": "https://localhost:8080/",
          "height": 387
        },
        "id": "22B1rDa9AmoG",
        "outputId": "649813c4-ec0f-4b1f-c239-2c169fe7a0c8"
      },
      "outputs": [
        {
          "data": {
            "text/html": [
              "<div>\n",
              "<style scoped>\n",
              "    .dataframe tbody tr th:only-of-type {\n",
              "        vertical-align: middle;\n",
              "    }\n",
              "\n",
              "    .dataframe tbody tr th {\n",
              "        vertical-align: top;\n",
              "    }\n",
              "\n",
              "    .dataframe thead th {\n",
              "        text-align: right;\n",
              "    }\n",
              "</style>\n",
              "<table border=\"1\" class=\"dataframe\">\n",
              "  <thead>\n",
              "    <tr style=\"text-align: right;\">\n",
              "      <th></th>\n",
              "      <th>year</th>\n",
              "      <th>title</th>\n",
              "    </tr>\n",
              "  </thead>\n",
              "  <tbody>\n",
              "    <tr>\n",
              "      <th>39927</th>\n",
              "      <td>1920</td>\n",
              "      <td>within our gates</td>\n",
              "    </tr>\n",
              "    <tr>\n",
              "      <th>706545</th>\n",
              "      <td>1920</td>\n",
              "      <td>nomads of the north</td>\n",
              "    </tr>\n",
              "    <tr>\n",
              "      <th>615904</th>\n",
              "      <td>1920</td>\n",
              "      <td>pollyanna</td>\n",
              "    </tr>\n",
              "    <tr>\n",
              "      <th>548369</th>\n",
              "      <td>1922</td>\n",
              "      <td>robin hood (silent)</td>\n",
              "    </tr>\n",
              "    <tr>\n",
              "      <th>683187</th>\n",
              "      <td>1922</td>\n",
              "      <td>one exciting night</td>\n",
              "    </tr>\n",
              "  </tbody>\n",
              "</table>\n",
              "</div>"
            ],
            "text/plain": [
              "        year                title\n",
              "39927   1920     within our gates\n",
              "706545  1920  nomads of the north\n",
              "615904  1920            pollyanna\n",
              "548369  1922  robin hood (silent)\n",
              "683187  1922   one exciting night"
            ]
          },
          "execution_count": 70,
          "metadata": {},
          "output_type": "execute_result"
        }
      ],
      "source": [
        "content_year= content_year.sort_values(by='year')[:20]\n",
        "content_year.head()"
      ]
    },
    {
      "cell_type": "code",
      "execution_count": 71,
      "metadata": {
        "id": "GAqGHkl8zwlB"
      },
      "outputs": [],
      "source": [
        "import plotly.graph_objs as go\n",
        "import plotly.io as pio"
      ]
    },
    {
      "cell_type": "code",
      "execution_count": 72,
      "metadata": {
        "colab": {
          "base_uri": "https://localhost:8080/",
          "height": 562
        },
        "id": "B-mpLByzBAzH",
        "outputId": "156787a4-f615-4fc7-ad5c-6dea51f40952"
      },
      "outputs": [
        {
          "data": {
            "application/vnd.plotly.v1+json": {
              "config": {
                "plotlyServerURL": "https://plot.ly"
              },
              "data": [
                {
                  "cells": {
                    "fill": {
                      "color": "antiquewhite"
                    },
                    "values": [
                      [
                        "within our gates",
                        "nomads of the north",
                        "pollyanna",
                        "robin hood (silent)",
                        "one exciting night",
                        "merry-go-round",
                        "romola",
                        "pioneers: first women filmmakers*",
                        "don q, son of zorro (silent)",
                        "the eagle (no dialog)",
                        "madame behave",
                        "the monster - lon chaney's uncut horror classic!",
                        "tumbleweeds",
                        "the phantom of the opera (silent)",
                        "sir arthur conan doyle's the lost world",
                        "lon chaney in the unholy three - the original 1925 classic, directed by tod browning",
                        "rex the devil horse (silent)",
                        "the pleasure garden",
                        "college",
                        "steamboat willie"
                      ],
                      [
                        1920,
                        1920,
                        1920,
                        1922,
                        1922,
                        1923,
                        1924,
                        1925,
                        1925,
                        1925,
                        1925,
                        1925,
                        1925,
                        1925,
                        1925,
                        1925,
                        1926,
                        1926,
                        1927,
                        1928
                      ]
                    ]
                  },
                  "header": {
                    "fill": {
                      "color": "lightpink"
                    },
                    "values": [
                      "title",
                      "year"
                    ]
                  },
                  "type": "table"
                }
              ],
              "layout": {
                "template": {
                  "data": {
                    "bar": [
                      {
                        "error_x": {
                          "color": "#2a3f5f"
                        },
                        "error_y": {
                          "color": "#2a3f5f"
                        },
                        "marker": {
                          "line": {
                            "color": "#E5ECF6",
                            "width": 0.5
                          },
                          "pattern": {
                            "fillmode": "overlay",
                            "size": 10,
                            "solidity": 0.2
                          }
                        },
                        "type": "bar"
                      }
                    ],
                    "barpolar": [
                      {
                        "marker": {
                          "line": {
                            "color": "#E5ECF6",
                            "width": 0.5
                          },
                          "pattern": {
                            "fillmode": "overlay",
                            "size": 10,
                            "solidity": 0.2
                          }
                        },
                        "type": "barpolar"
                      }
                    ],
                    "carpet": [
                      {
                        "aaxis": {
                          "endlinecolor": "#2a3f5f",
                          "gridcolor": "white",
                          "linecolor": "white",
                          "minorgridcolor": "white",
                          "startlinecolor": "#2a3f5f"
                        },
                        "baxis": {
                          "endlinecolor": "#2a3f5f",
                          "gridcolor": "white",
                          "linecolor": "white",
                          "minorgridcolor": "white",
                          "startlinecolor": "#2a3f5f"
                        },
                        "type": "carpet"
                      }
                    ],
                    "choropleth": [
                      {
                        "colorbar": {
                          "outlinewidth": 0,
                          "ticks": ""
                        },
                        "type": "choropleth"
                      }
                    ],
                    "contour": [
                      {
                        "colorbar": {
                          "outlinewidth": 0,
                          "ticks": ""
                        },
                        "colorscale": [
                          [
                            0,
                            "#0d0887"
                          ],
                          [
                            0.1111111111111111,
                            "#46039f"
                          ],
                          [
                            0.2222222222222222,
                            "#7201a8"
                          ],
                          [
                            0.3333333333333333,
                            "#9c179e"
                          ],
                          [
                            0.4444444444444444,
                            "#bd3786"
                          ],
                          [
                            0.5555555555555556,
                            "#d8576b"
                          ],
                          [
                            0.6666666666666666,
                            "#ed7953"
                          ],
                          [
                            0.7777777777777778,
                            "#fb9f3a"
                          ],
                          [
                            0.8888888888888888,
                            "#fdca26"
                          ],
                          [
                            1,
                            "#f0f921"
                          ]
                        ],
                        "type": "contour"
                      }
                    ],
                    "contourcarpet": [
                      {
                        "colorbar": {
                          "outlinewidth": 0,
                          "ticks": ""
                        },
                        "type": "contourcarpet"
                      }
                    ],
                    "heatmap": [
                      {
                        "colorbar": {
                          "outlinewidth": 0,
                          "ticks": ""
                        },
                        "colorscale": [
                          [
                            0,
                            "#0d0887"
                          ],
                          [
                            0.1111111111111111,
                            "#46039f"
                          ],
                          [
                            0.2222222222222222,
                            "#7201a8"
                          ],
                          [
                            0.3333333333333333,
                            "#9c179e"
                          ],
                          [
                            0.4444444444444444,
                            "#bd3786"
                          ],
                          [
                            0.5555555555555556,
                            "#d8576b"
                          ],
                          [
                            0.6666666666666666,
                            "#ed7953"
                          ],
                          [
                            0.7777777777777778,
                            "#fb9f3a"
                          ],
                          [
                            0.8888888888888888,
                            "#fdca26"
                          ],
                          [
                            1,
                            "#f0f921"
                          ]
                        ],
                        "type": "heatmap"
                      }
                    ],
                    "heatmapgl": [
                      {
                        "colorbar": {
                          "outlinewidth": 0,
                          "ticks": ""
                        },
                        "colorscale": [
                          [
                            0,
                            "#0d0887"
                          ],
                          [
                            0.1111111111111111,
                            "#46039f"
                          ],
                          [
                            0.2222222222222222,
                            "#7201a8"
                          ],
                          [
                            0.3333333333333333,
                            "#9c179e"
                          ],
                          [
                            0.4444444444444444,
                            "#bd3786"
                          ],
                          [
                            0.5555555555555556,
                            "#d8576b"
                          ],
                          [
                            0.6666666666666666,
                            "#ed7953"
                          ],
                          [
                            0.7777777777777778,
                            "#fb9f3a"
                          ],
                          [
                            0.8888888888888888,
                            "#fdca26"
                          ],
                          [
                            1,
                            "#f0f921"
                          ]
                        ],
                        "type": "heatmapgl"
                      }
                    ],
                    "histogram": [
                      {
                        "marker": {
                          "pattern": {
                            "fillmode": "overlay",
                            "size": 10,
                            "solidity": 0.2
                          }
                        },
                        "type": "histogram"
                      }
                    ],
                    "histogram2d": [
                      {
                        "colorbar": {
                          "outlinewidth": 0,
                          "ticks": ""
                        },
                        "colorscale": [
                          [
                            0,
                            "#0d0887"
                          ],
                          [
                            0.1111111111111111,
                            "#46039f"
                          ],
                          [
                            0.2222222222222222,
                            "#7201a8"
                          ],
                          [
                            0.3333333333333333,
                            "#9c179e"
                          ],
                          [
                            0.4444444444444444,
                            "#bd3786"
                          ],
                          [
                            0.5555555555555556,
                            "#d8576b"
                          ],
                          [
                            0.6666666666666666,
                            "#ed7953"
                          ],
                          [
                            0.7777777777777778,
                            "#fb9f3a"
                          ],
                          [
                            0.8888888888888888,
                            "#fdca26"
                          ],
                          [
                            1,
                            "#f0f921"
                          ]
                        ],
                        "type": "histogram2d"
                      }
                    ],
                    "histogram2dcontour": [
                      {
                        "colorbar": {
                          "outlinewidth": 0,
                          "ticks": ""
                        },
                        "colorscale": [
                          [
                            0,
                            "#0d0887"
                          ],
                          [
                            0.1111111111111111,
                            "#46039f"
                          ],
                          [
                            0.2222222222222222,
                            "#7201a8"
                          ],
                          [
                            0.3333333333333333,
                            "#9c179e"
                          ],
                          [
                            0.4444444444444444,
                            "#bd3786"
                          ],
                          [
                            0.5555555555555556,
                            "#d8576b"
                          ],
                          [
                            0.6666666666666666,
                            "#ed7953"
                          ],
                          [
                            0.7777777777777778,
                            "#fb9f3a"
                          ],
                          [
                            0.8888888888888888,
                            "#fdca26"
                          ],
                          [
                            1,
                            "#f0f921"
                          ]
                        ],
                        "type": "histogram2dcontour"
                      }
                    ],
                    "mesh3d": [
                      {
                        "colorbar": {
                          "outlinewidth": 0,
                          "ticks": ""
                        },
                        "type": "mesh3d"
                      }
                    ],
                    "parcoords": [
                      {
                        "line": {
                          "colorbar": {
                            "outlinewidth": 0,
                            "ticks": ""
                          }
                        },
                        "type": "parcoords"
                      }
                    ],
                    "pie": [
                      {
                        "automargin": true,
                        "type": "pie"
                      }
                    ],
                    "scatter": [
                      {
                        "fillpattern": {
                          "fillmode": "overlay",
                          "size": 10,
                          "solidity": 0.2
                        },
                        "type": "scatter"
                      }
                    ],
                    "scatter3d": [
                      {
                        "line": {
                          "colorbar": {
                            "outlinewidth": 0,
                            "ticks": ""
                          }
                        },
                        "marker": {
                          "colorbar": {
                            "outlinewidth": 0,
                            "ticks": ""
                          }
                        },
                        "type": "scatter3d"
                      }
                    ],
                    "scattercarpet": [
                      {
                        "marker": {
                          "colorbar": {
                            "outlinewidth": 0,
                            "ticks": ""
                          }
                        },
                        "type": "scattercarpet"
                      }
                    ],
                    "scattergeo": [
                      {
                        "marker": {
                          "colorbar": {
                            "outlinewidth": 0,
                            "ticks": ""
                          }
                        },
                        "type": "scattergeo"
                      }
                    ],
                    "scattergl": [
                      {
                        "marker": {
                          "colorbar": {
                            "outlinewidth": 0,
                            "ticks": ""
                          }
                        },
                        "type": "scattergl"
                      }
                    ],
                    "scattermapbox": [
                      {
                        "marker": {
                          "colorbar": {
                            "outlinewidth": 0,
                            "ticks": ""
                          }
                        },
                        "type": "scattermapbox"
                      }
                    ],
                    "scatterpolar": [
                      {
                        "marker": {
                          "colorbar": {
                            "outlinewidth": 0,
                            "ticks": ""
                          }
                        },
                        "type": "scatterpolar"
                      }
                    ],
                    "scatterpolargl": [
                      {
                        "marker": {
                          "colorbar": {
                            "outlinewidth": 0,
                            "ticks": ""
                          }
                        },
                        "type": "scatterpolargl"
                      }
                    ],
                    "scatterternary": [
                      {
                        "marker": {
                          "colorbar": {
                            "outlinewidth": 0,
                            "ticks": ""
                          }
                        },
                        "type": "scatterternary"
                      }
                    ],
                    "surface": [
                      {
                        "colorbar": {
                          "outlinewidth": 0,
                          "ticks": ""
                        },
                        "colorscale": [
                          [
                            0,
                            "#0d0887"
                          ],
                          [
                            0.1111111111111111,
                            "#46039f"
                          ],
                          [
                            0.2222222222222222,
                            "#7201a8"
                          ],
                          [
                            0.3333333333333333,
                            "#9c179e"
                          ],
                          [
                            0.4444444444444444,
                            "#bd3786"
                          ],
                          [
                            0.5555555555555556,
                            "#d8576b"
                          ],
                          [
                            0.6666666666666666,
                            "#ed7953"
                          ],
                          [
                            0.7777777777777778,
                            "#fb9f3a"
                          ],
                          [
                            0.8888888888888888,
                            "#fdca26"
                          ],
                          [
                            1,
                            "#f0f921"
                          ]
                        ],
                        "type": "surface"
                      }
                    ],
                    "table": [
                      {
                        "cells": {
                          "fill": {
                            "color": "#EBF0F8"
                          },
                          "line": {
                            "color": "white"
                          }
                        },
                        "header": {
                          "fill": {
                            "color": "#C8D4E3"
                          },
                          "line": {
                            "color": "white"
                          }
                        },
                        "type": "table"
                      }
                    ]
                  },
                  "layout": {
                    "annotationdefaults": {
                      "arrowcolor": "#2a3f5f",
                      "arrowhead": 0,
                      "arrowwidth": 1
                    },
                    "autotypenumbers": "strict",
                    "coloraxis": {
                      "colorbar": {
                        "outlinewidth": 0,
                        "ticks": ""
                      }
                    },
                    "colorscale": {
                      "diverging": [
                        [
                          0,
                          "#8e0152"
                        ],
                        [
                          0.1,
                          "#c51b7d"
                        ],
                        [
                          0.2,
                          "#de77ae"
                        ],
                        [
                          0.3,
                          "#f1b6da"
                        ],
                        [
                          0.4,
                          "#fde0ef"
                        ],
                        [
                          0.5,
                          "#f7f7f7"
                        ],
                        [
                          0.6,
                          "#e6f5d0"
                        ],
                        [
                          0.7,
                          "#b8e186"
                        ],
                        [
                          0.8,
                          "#7fbc41"
                        ],
                        [
                          0.9,
                          "#4d9221"
                        ],
                        [
                          1,
                          "#276419"
                        ]
                      ],
                      "sequential": [
                        [
                          0,
                          "#0d0887"
                        ],
                        [
                          0.1111111111111111,
                          "#46039f"
                        ],
                        [
                          0.2222222222222222,
                          "#7201a8"
                        ],
                        [
                          0.3333333333333333,
                          "#9c179e"
                        ],
                        [
                          0.4444444444444444,
                          "#bd3786"
                        ],
                        [
                          0.5555555555555556,
                          "#d8576b"
                        ],
                        [
                          0.6666666666666666,
                          "#ed7953"
                        ],
                        [
                          0.7777777777777778,
                          "#fb9f3a"
                        ],
                        [
                          0.8888888888888888,
                          "#fdca26"
                        ],
                        [
                          1,
                          "#f0f921"
                        ]
                      ],
                      "sequentialminus": [
                        [
                          0,
                          "#0d0887"
                        ],
                        [
                          0.1111111111111111,
                          "#46039f"
                        ],
                        [
                          0.2222222222222222,
                          "#7201a8"
                        ],
                        [
                          0.3333333333333333,
                          "#9c179e"
                        ],
                        [
                          0.4444444444444444,
                          "#bd3786"
                        ],
                        [
                          0.5555555555555556,
                          "#d8576b"
                        ],
                        [
                          0.6666666666666666,
                          "#ed7953"
                        ],
                        [
                          0.7777777777777778,
                          "#fb9f3a"
                        ],
                        [
                          0.8888888888888888,
                          "#fdca26"
                        ],
                        [
                          1,
                          "#f0f921"
                        ]
                      ]
                    },
                    "colorway": [
                      "#636efa",
                      "#EF553B",
                      "#00cc96",
                      "#ab63fa",
                      "#FFA15A",
                      "#19d3f3",
                      "#FF6692",
                      "#B6E880",
                      "#FF97FF",
                      "#FECB52"
                    ],
                    "font": {
                      "color": "#2a3f5f"
                    },
                    "geo": {
                      "bgcolor": "white",
                      "lakecolor": "white",
                      "landcolor": "#E5ECF6",
                      "showlakes": true,
                      "showland": true,
                      "subunitcolor": "white"
                    },
                    "hoverlabel": {
                      "align": "left"
                    },
                    "hovermode": "closest",
                    "mapbox": {
                      "style": "light"
                    },
                    "paper_bgcolor": "white",
                    "plot_bgcolor": "#E5ECF6",
                    "polar": {
                      "angularaxis": {
                        "gridcolor": "white",
                        "linecolor": "white",
                        "ticks": ""
                      },
                      "bgcolor": "#E5ECF6",
                      "radialaxis": {
                        "gridcolor": "white",
                        "linecolor": "white",
                        "ticks": ""
                      }
                    },
                    "scene": {
                      "xaxis": {
                        "backgroundcolor": "#E5ECF6",
                        "gridcolor": "white",
                        "gridwidth": 2,
                        "linecolor": "white",
                        "showbackground": true,
                        "ticks": "",
                        "zerolinecolor": "white"
                      },
                      "yaxis": {
                        "backgroundcolor": "#E5ECF6",
                        "gridcolor": "white",
                        "gridwidth": 2,
                        "linecolor": "white",
                        "showbackground": true,
                        "ticks": "",
                        "zerolinecolor": "white"
                      },
                      "zaxis": {
                        "backgroundcolor": "#E5ECF6",
                        "gridcolor": "white",
                        "gridwidth": 2,
                        "linecolor": "white",
                        "showbackground": true,
                        "ticks": "",
                        "zerolinecolor": "white"
                      }
                    },
                    "shapedefaults": {
                      "line": {
                        "color": "#2a3f5f"
                      }
                    },
                    "ternary": {
                      "aaxis": {
                        "gridcolor": "white",
                        "linecolor": "white",
                        "ticks": ""
                      },
                      "baxis": {
                        "gridcolor": "white",
                        "linecolor": "white",
                        "ticks": ""
                      },
                      "bgcolor": "#E5ECF6",
                      "caxis": {
                        "gridcolor": "white",
                        "linecolor": "white",
                        "ticks": ""
                      }
                    },
                    "title": {
                      "x": 0.05
                    },
                    "xaxis": {
                      "automargin": true,
                      "gridcolor": "white",
                      "linecolor": "white",
                      "ticks": "",
                      "title": {
                        "standoff": 15
                      },
                      "zerolinecolor": "white",
                      "zerolinewidth": 2
                    },
                    "yaxis": {
                      "automargin": true,
                      "gridcolor": "white",
                      "linecolor": "white",
                      "ticks": "",
                      "title": {
                        "standoff": 15
                      },
                      "zerolinecolor": "white",
                      "zerolinewidth": 2
                    }
                  }
                }
              }
            }
          },
          "metadata": {},
          "output_type": "display_data"
        }
      ],
      "source": [
        "fig = go.Figure(data=[go.Table(header=dict(values=['title', 'year'],fill_color='lightpink'),\n",
        "                 cells=dict(values=[content_year['title'],content_year['year']],fill_color='antiquewhite'))\n",
        "                     ])\n",
        "fig.show()"
      ]
    },
    {
      "cell_type": "markdown",
      "metadata": {
        "id": "iqpPaa6FB37P"
      },
      "source": [
        "**Observo lo mismo pero con los mas nuevos lanzamientos**"
      ]
    },
    {
      "cell_type": "code",
      "execution_count": 73,
      "metadata": {
        "id": "aSK_c-ibFad8"
      },
      "outputs": [],
      "source": [
        "contenido_reciente =df[[ 'year', 'title']]"
      ]
    },
    {
      "cell_type": "code",
      "execution_count": 74,
      "metadata": {
        "id": "1ypF1ZKbFqUx"
      },
      "outputs": [],
      "source": [
        "contenido_reciente = contenido_reciente.drop_duplicates(subset='title')"
      ]
    },
    {
      "cell_type": "code",
      "execution_count": 75,
      "metadata": {
        "colab": {
          "base_uri": "https://localhost:8080/",
          "height": 387
        },
        "id": "KJQPoxIbCByQ",
        "outputId": "f414de11-7aeb-433b-ea8f-445758909dae"
      },
      "outputs": [
        {
          "data": {
            "text/html": [
              "<div>\n",
              "<style scoped>\n",
              "    .dataframe tbody tr th:only-of-type {\n",
              "        vertical-align: middle;\n",
              "    }\n",
              "\n",
              "    .dataframe tbody tr th {\n",
              "        vertical-align: top;\n",
              "    }\n",
              "\n",
              "    .dataframe thead th {\n",
              "        text-align: right;\n",
              "    }\n",
              "</style>\n",
              "<table border=\"1\" class=\"dataframe\">\n",
              "  <thead>\n",
              "    <tr style=\"text-align: right;\">\n",
              "      <th></th>\n",
              "      <th>year</th>\n",
              "      <th>title</th>\n",
              "    </tr>\n",
              "  </thead>\n",
              "  <tbody>\n",
              "    <tr>\n",
              "      <th>7462611</th>\n",
              "      <td>2021</td>\n",
              "      <td>blown away</td>\n",
              "    </tr>\n",
              "    <tr>\n",
              "      <th>4742661</th>\n",
              "      <td>2021</td>\n",
              "      <td>star wars biomes</td>\n",
              "    </tr>\n",
              "    <tr>\n",
              "      <th>2090110</th>\n",
              "      <td>2021</td>\n",
              "      <td>the priest</td>\n",
              "    </tr>\n",
              "    <tr>\n",
              "      <th>4743657</th>\n",
              "      <td>2021</td>\n",
              "      <td>the bad batch</td>\n",
              "    </tr>\n",
              "    <tr>\n",
              "      <th>2088764</th>\n",
              "      <td>2021</td>\n",
              "      <td>who needs enemies</td>\n",
              "    </tr>\n",
              "  </tbody>\n",
              "</table>\n",
              "</div>"
            ],
            "text/plain": [
              "         year              title\n",
              "7462611  2021         blown away\n",
              "4742661  2021   star wars biomes\n",
              "2090110  2021         the priest\n",
              "4743657  2021      the bad batch\n",
              "2088764  2021  who needs enemies"
            ]
          },
          "execution_count": 75,
          "metadata": {},
          "output_type": "execute_result"
        }
      ],
      "source": [
        "contenido_reciente = contenido_reciente.sort_values(by='year', ascending = False)[0:500]#[0:100] Siguen siendo las ultimas agregadas las del 2021\n",
        "contenido_reciente.head()"
      ]
    },
    {
      "cell_type": "code",
      "execution_count": 76,
      "metadata": {
        "colab": {
          "base_uri": "https://localhost:8080/",
          "height": 562
        },
        "id": "Eexk7XnTC68L",
        "outputId": "5b93eb33-58c4-438a-d589-6df5431e3116"
      },
      "outputs": [
        {
          "data": {
            "application/vnd.plotly.v1+json": {
              "config": {
                "plotlyServerURL": "https://plot.ly"
              },
              "data": [
                {
                  "cells": {
                    "fill": {
                      "color": "antiquewhite"
                    },
                    "values": [
                      [
                        "blown away",
                        "star wars biomes",
                        "the priest",
                        "the bad batch",
                        "who needs enemies",
                        "yuvarathnaa (hindi)",
                        "yuvarathnaa (tamil)",
                        "22 vs. earth",
                        "the ballad of billy mccrae",
                        "onlyfans: selling sexy",
                        "konga tnt",
                        "the final code",
                        "tentacles",
                        "hip hop uncovered",
                        "say your prayers",
                        "kapatadhaari (4k uhd)",
                        "kapatadhaari",
                        "secrets of the whales",
                        "havana street party presents: beatriz luengo",
                        "star wars vehicle flythroughs",
                        "the boarding school: las cumbres",
                        "track the mystery",
                        "maggie simpson in \"the force awakens from its nap\"",
                        "pinkfong! baby shark sing-along",
                        "the lady and the dale",
                        "know fear",
                        "my love: six stories of true love",
                        "open",
                        "pinkfong arts & crafts: wonderstar",
                        "slashlorette party",
                        "qing luo",
                        "return to blood fart lake",
                        "prathi friendu avasramera",
                        "prayanikudu",
                        "kilroy",
                        "new gods: nezha reborn",
                        "perfect strangers",
                        "scavengers",
                        "pazhagiya naatkal",
                        "don't be the first one",
                        "the mission",
                        "a conversation between black men",
                        "money fight",
                        "firesign theatre's hot shorts",
                        "kenan",
                        "the march on washington: keepers of the dream",
                        "howlin' wolf - the howlin' wolf story - the secret history of rock & roll",
                        "abc news live presents: mission to mars, live!",
                        "hawk & rev: vampire slayers",
                        "writing kim",
                        "a conversation with black women",
                        "supervillain: the making of tekashi 6ix9ine",
                        "thunder force",
                        "beartown",
                        "douluo continent",
                        "the united states vs. billie holiday",
                        "two distant strangers",
                        "sportsnation",
                        "war of the god monsters",
                        "lock down love",
                        "knights of newgate",
                        "roohi",
                        "north korea: inside the mind of a dictator",
                        "men in kilts: a roadtrip with sam and graham",
                        "trump: the reckoning",
                        "vaasta",
                        "from the depths",
                        "kabadadaari (4k uhd)",
                        "kabadadaari",
                        "flesh",
                        "blippi's educational adventures",
                        "big shot",
                        "bright hill road",
                        "calls",
                        "casting the net",
                        "final stop",
                        "night in paradise",
                        "conscripted",
                        "earth moods",
                        "fanchon the cricket",
                        "boycie in belgrade",
                        "first signal",
                        "pinkfong! baby shark & more animal songs",
                        "misrule",
                        "sol invictus",
                        "down to earth: the astronaut perspective",
                        "mean man: the story of chris holmes",
                        "naa katha",
                        "astro loco",
                        "little black book",
                        "law school",
                        "apocalypse a go go",
                        "call me kat",
                        "ape vs. monster",
                        "gordon ramsay's american road trip",
                        "loki",
                        "angel mountain",
                        "the soul",
                        "the funeral home",
                        "name that tune",
                        "amalia in the fall",
                        "raya and the last dragon",
                        "mr. mayor",
                        "little coincidences",
                        "luca",
                        "horimiya",
                        "the heiress",
                        "the good, the bart, and the loki",
                        "love life & pakodi",
                        "a sunburnt christmas",
                        "strangers",
                        "chris gethard: half my life",
                        "ride or die",
                        "warmed-over krautrock",
                        "the mysterious benedict society",
                        "wolfgang",
                        "dino ranch",
                        "word of honor",
                        "the most fun you can have dying",
                        "attraction to paris",
                        "concrete jungle",
                        "dad stop embarrassing me!",
                        "dead or?",
                        "fate: the winx saga",
                        "celebrity wheel of fortune",
                        "mushoku tensei: jobless reincarnation",
                        "jolt",
                        "beware of dog",
                        "blippi's summer games",
                        "curse of aurore",
                        "maguva disha marindhi",
                        "mirugaa",
                        "road to damascus",
                        "race to the center of the earth",
                        "the sister",
                        "derek delgaudio’s in & of itself",
                        "painting with john",
                        "unfollower",
                        "exodus",
                        "fallen",
                        "gun and a hotel bible",
                        "healing from hate",
                        "reunion",
                        "the unknown",
                        "ikkat",
                        "sacrilege",
                        "the little prince(ss)",
                        "us again",
                        "the last of the chupacabras",
                        "american eid",
                        "24 hours: assault on the capitol",
                        "c-bar",
                        "everyone is doing great",
                        "dinner is served",
                        "dogs playing poker",
                        "strictly for the streets vol. 1",
                        "dosth mera dosth",
                        "why did you kill me?",
                        "legend",
                        "five little ducks nursery rhymes for babies in indonesian",
                        "the inauguration of joseph r. biden jr.",
                        "the wolf princess",
                        "goodbye, butterfly",
                        "growing fangs",
                        "kingdom of the polar bears",
                        "let's be tigers",
                        "little annie rooney",
                        "the way of the househusband",
                        "decisions",
                        "cleveland clinic: a century of care",
                        "the first 100 days: president biden takes office",
                        "songbird",
                        "celebrity best home cook",
                        "disney parks sunrise series",
                        "confronting a serial killer",
                        "set the record straight: the jam master jay case",
                        "sasquatch",
                        "it's not too late: earth day special",
                        "greta thunberg: a year to change the world",
                        "true",
                        "x-ray 1c test title",
                        "ufc 261: early prelims and prelims",
                        "burb patrol",
                        "exposure",
                        "sesame street: 50 years of sunny days",
                        "presidential address to congress and the nation and the republican response",
                        "tersanjung the movie",
                        "the first 100 days: rep. nancy mace and rep. marilyn strickland",
                        "i am lisa",
                        "worn stories",
                        "prank encounters",
                        "pasture",
                        "pixar popcorn",
                        "blood born",
                        "blippi's great green adventure",
                        "assamiyin america payanam",
                        "wework: or the making and breaking of a $47 billion unicorn",
                        "law & order: organized crime",
                        "hysterical",
                        "magical andes",
                        "wandavision",
                        "malika the lion queen",
                        "seagulls",
                        "call time: the finale",
                        "marvel studios legends",
                        "the world ends with you: the animation",
                        "stars fell on alabama",
                        "hope & desperation: emergency at the border",
                        "going for golden eye",
                        "timepass love antey",
                        "dolly parton: a musicares tribute",
                        "prakash electronics",
                        "the crime of the century",
                        "the book of job",
                        "reunion massacre",
                        "ufc 262",
                        "series before 1c onboarding - 1",
                        "tehreer",
                        "galacticos",
                        "abc news live honors asian pacific american heritage month: bridging generations",
                        "pagglait",
                        "summertime songs for kids with little baby bum",
                        "starting up",
                        "tulsa's buried truth",
                        "the irregulars",
                        "marvel's m.o.d.o.k.",
                        "flatbush misdemeanors",
                        "caught by a wave",
                        "dota: dragon's blood",
                        "magic for humans spain",
                        "white girl apokalypse",
                        "haunted: latin america",
                        "looking for lady day",
                        "dr. bird's advice for sad poets",
                        "sundari",
                        "7 yards: the chris norton story",
                        "ishida and asakura",
                        "octonauts & the ring of fire",
                        "emotional fool",
                        "marked",
                        "the rising voices story",
                        "a week away",
                        "jack vs lanterns",
                        "the parish",
                        "the hike",
                        "bad trip",
                        "narappa",
                        "the green force",
                        "total recall(ed): the story of america's largest, wildest recall election",
                        "pinkfong! job songs",
                        "coming for the king",
                        "madame claude",
                        "just say yes",
                        "star wars vintage: clone wars 2d micro-series",
                        "game of talents",
                        "black death",
                        "star wars vintage: story of the faithful wookiee",
                        "kid 90",
                        "back to gaya",
                        "the mighty ducks: game changers",
                        "after the reign",
                        "mubutu's african movie theater: episode 6",
                        "aalas motaapa ghabraahat",
                        "dead air",
                        "go / don't go",
                        "death ranch",
                        "a i 1.o",
                        "hot mess",
                        "mask of thorn",
                        "the falcon and the winter soldier",
                        "in the moon's shadow",
                        "the last kids on earth: happy apocalypse to you",
                        "paper dragons",
                        "the angel of auschwitz",
                        "raunch and roll",
                        "soul of a nation",
                        "stop the hate: the rise in violence against asian americans",
                        "razorteeth",
                        "mrs. whittle's cottage",
                        "samantha hale: only happy when it's raining men",
                        "the target list",
                        "3 pints and a rabbi",
                        "boss level",
                        "the terrible adventure",
                        "the wild swans",
                        "27 september",
                        "stephen a's world",
                        "the big day",
                        "bad cupid",
                        "the wedding coach",
                        "bart & hahn",
                        "this is a robbery: the world's biggest art heist",
                        "gamestopped",
                        "highway 13",
                        "jathi ratnalu",
                        "morphle - summertime special",
                        "yuvarathnaa (telugu)",
                        "nee needala",
                        "meera mathur",
                        "secrets of sulphur springs",
                        "blood moon",
                        "flora & ulysses",
                        "marvel's behind the mask",
                        "ashes that swarm",
                        "inheritance",
                        "the inheritance",
                        "concrete cowboy",
                        "kartha",
                        "fanboys",
                        "the tiny life of butcher duke",
                        "trackside goons",
                        "irul",
                        "the darkness",
                        "wounded by the wind",
                        "the believer",
                        "sideshow",
                        "holmes family effect",
                        "natasha pearl hansen: i was supposed to get married today",
                        "is mindfulness right for you?",
                        "marvel studios assembled",
                        "higher ed",
                        "own the room",
                        "america's most wanted",
                        "hellbox",
                        "goldmedal",
                        "myth: a frozen tale",
                        "invincible",
                        "girls' night in",
                        "abc news exclusive: president joe biden with george stephanopoulos",
                        "cult following",
                        "mandela",
                        "enclosed",
                        "shadow society",
                        "cinderella",
                        "monsters at work",
                        "five little babies children's songs in indonesian - bob the train",
                        "becoming cousteau",
                        "princess of the red ficus tree - dazang tukung",
                        "curse of mardi gras",
                        "taken in",
                        "rewind",
                        "the wheel of time",
                        "america the beautiful",
                        "solomon",
                        "baymax!",
                        "love, millennial style",
                        "steuben county",
                        "the shattering",
                        "ciao alberto",
                        "pinkfong! sports club",
                        "ratnagiri",
                        "the tunnel (english dub)",
                        "the twins killing forests",
                        "disney intertwined",
                        "hawkeye",
                        "shadow and bone - the afterparty",
                        "there's somethng about mario",
                        "the beatles: get back",
                        "cod(cash on delivery)",
                        "yoyo",
                        "river",
                        "tempest eye",
                        "funny little stories",
                        "hot dog",
                        "under crystal lake",
                        "the herald and the horror",
                        "maradona: blessed dream",
                        "the bay: the beginning",
                        "tokoloshe the calling",
                        "lilith",
                        "maussan's ufo files",
                        "fatma",
                        "murder bury win",
                        "the queen family singalong",
                        "napulione remastered",
                        "heroes: silence and rock & roll",
                        "title post onboarding 8",
                        "speak up: empower your ideas",
                        "the heartthrob",
                        "obi-wan kenobi",
                        "olaf presents",
                        "pixar 2021 disney+ day special",
                        "moral stories and more shows",
                        "shang-chi and the legend of the ten rings",
                        "spin",
                        "my heroic husband",
                        "night sweats",
                        "the making of happier than ever: a love letter to los angeles",
                        "magic max",
                        "the proud family: louder and prouder",
                        "respite",
                        "my client's wife",
                        "we had it coming",
                        "tale of tarot",
                        "spoken",
                        "the simpsons in plusaversary",
                        "mexican moon",
                        "marvel studios’ 2021 disney+ day special",
                        "the wrong path",
                        "the immortals",
                        "two for joy",
                        "treasure 8",
                        "berserkers",
                        "buzzfeed unsolved: true crime",
                        "home sweet home alone",
                        "jungle cruise",
                        "egonìa",
                        "loudermilk",
                        "enter the mack",
                        "michael gelbart: all new smash hits",
                        "gourmet in tang dynasty",
                        "mumbai saga",
                        "image test",
                        "let's fight ghost",
                        "the karma effect",
                        "limitless with chris hemsworth",
                        "neha",
                        "caim",
                        "the man in the hat",
                        "sexify",
                        "a perfect enemy",
                        "reset",
                        "road to redemption",
                        "rogue cell 2: shadow warrior",
                        "wild fire",
                        "mud flat murders",
                        "ruin agency",
                        "oh ship! it's a family trip",
                        "white night",
                        "life on the rocks",
                        "sweet mahogany 2: pure indulgence",
                        "the bone garden",
                        "the house of screaming death",
                        "twelve legend",
                        "the struggle 2: the dilemma",
                        "sanctuary",
                        "the flaming heart",
                        "theethum nandrum",
                        "live hard",
                        "psycho kickboxer",
                        "headspace guide to sleep",
                        "phantom of the grindhouse",
                        "legends of sleepy hollow",
                        "to tokyo",
                        "knifecorp",
                        "beauty queen butcher",
                        "happy little bunnies",
                        "yes & yoga",
                        "game on",
                        "emerald run",
                        "chinnanjiru kiliye",
                        "erotic fire of the unattainable",
                        "finding ophelia",
                        "chinna chinni asha",
                        "lego monkie kid: a hero is born",
                        "landshark",
                        "let me be frank",
                        "music & murder 2",
                        "ardha shathabdham",
                        "thalaivii (telugu)",
                        "thalaivii (tamil)",
                        "saturday the 13th",
                        "thalaivii (malayalam)",
                        "vakeel saab",
                        "we",
                        "dafundamentals series",
                        "the horrific evil monsters",
                        "creature from big muddy: an illinois bigfoot legend",
                        "anaganaga oka nenu",
                        "clip: three anecdotes and a joint",
                        "cornered",
                        "daddydelphia",
                        "pet stars",
                        "the disciple",
                        "the innocent",
                        "the mitchells vs. the machines",
                        "the unremarkable juanquini",
                        "things heard & seen",
                        "yasuke",
                        "get the grift",
                        "venom coast",
                        "tom clancy's without remorse",
                        "the map of tiny perfect things",
                        "the thieves code",
                        "100m criminal conviction",
                        "thalaivii (kannada)",
                        "bacterium",
                        "one step from me",
                        "borat supplemental reporting",
                        "open door",
                        "edgar allan poe's \"the oval portrait\"",
                        "paul newman trilogy",
                        "simha (kannada)",
                        "senior entourage",
                        "the red box",
                        "lunkerville",
                        "paranormal investigation agency",
                        "let's go cozy coupe! - cartoons for kids",
                        "the pizza joint",
                        "solar impact"
                      ],
                      [
                        2021,
                        2021,
                        2021,
                        2021,
                        2021,
                        2021,
                        2021,
                        2021,
                        2021,
                        2021,
                        2021,
                        2021,
                        2021,
                        2021,
                        2021,
                        2021,
                        2021,
                        2021,
                        2021,
                        2021,
                        2021,
                        2021,
                        2021,
                        2021,
                        2021,
                        2021,
                        2021,
                        2021,
                        2021,
                        2021,
                        2021,
                        2021,
                        2021,
                        2021,
                        2021,
                        2021,
                        2021,
                        2021,
                        2021,
                        2021,
                        2021,
                        2021,
                        2021,
                        2021,
                        2021,
                        2021,
                        2021,
                        2021,
                        2021,
                        2021,
                        2021,
                        2021,
                        2021,
                        2021,
                        2021,
                        2021,
                        2021,
                        2021,
                        2021,
                        2021,
                        2021,
                        2021,
                        2021,
                        2021,
                        2021,
                        2021,
                        2021,
                        2021,
                        2021,
                        2021,
                        2021,
                        2021,
                        2021,
                        2021,
                        2021,
                        2021,
                        2021,
                        2021,
                        2021,
                        2021,
                        2021,
                        2021,
                        2021,
                        2021,
                        2021,
                        2021,
                        2021,
                        2021,
                        2021,
                        2021,
                        2021,
                        2021,
                        2021,
                        2021,
                        2021,
                        2021,
                        2021,
                        2021,
                        2021,
                        2021,
                        2021,
                        2021,
                        2021,
                        2021,
                        2021,
                        2021,
                        2021,
                        2021,
                        2021,
                        2021,
                        2021,
                        2021,
                        2021,
                        2021,
                        2021,
                        2021,
                        2021,
                        2021,
                        2021,
                        2021,
                        2021,
                        2021,
                        2021,
                        2021,
                        2021,
                        2021,
                        2021,
                        2021,
                        2021,
                        2021,
                        2021,
                        2021,
                        2021,
                        2021,
                        2021,
                        2021,
                        2021,
                        2021,
                        2021,
                        2021,
                        2021,
                        2021,
                        2021,
                        2021,
                        2021,
                        2021,
                        2021,
                        2021,
                        2021,
                        2021,
                        2021,
                        2021,
                        2021,
                        2021,
                        2021,
                        2021,
                        2021,
                        2021,
                        2021,
                        2021,
                        2021,
                        2021,
                        2021,
                        2021,
                        2021,
                        2021,
                        2021,
                        2021,
                        2021,
                        2021,
                        2021,
                        2021,
                        2021,
                        2021,
                        2021,
                        2021,
                        2021,
                        2021,
                        2021,
                        2021,
                        2021,
                        2021,
                        2021,
                        2021,
                        2021,
                        2021,
                        2021,
                        2021,
                        2021,
                        2021,
                        2021,
                        2021,
                        2021,
                        2021,
                        2021,
                        2021,
                        2021,
                        2021,
                        2021,
                        2021,
                        2021,
                        2021,
                        2021,
                        2021,
                        2021,
                        2021,
                        2021,
                        2021,
                        2021,
                        2021,
                        2021,
                        2021,
                        2021,
                        2021,
                        2021,
                        2021,
                        2021,
                        2021,
                        2021,
                        2021,
                        2021,
                        2021,
                        2021,
                        2021,
                        2021,
                        2021,
                        2021,
                        2021,
                        2021,
                        2021,
                        2021,
                        2021,
                        2021,
                        2021,
                        2021,
                        2021,
                        2021,
                        2021,
                        2021,
                        2021,
                        2021,
                        2021,
                        2021,
                        2021,
                        2021,
                        2021,
                        2021,
                        2021,
                        2021,
                        2021,
                        2021,
                        2021,
                        2021,
                        2021,
                        2021,
                        2021,
                        2021,
                        2021,
                        2021,
                        2021,
                        2021,
                        2021,
                        2021,
                        2021,
                        2021,
                        2021,
                        2021,
                        2021,
                        2021,
                        2021,
                        2021,
                        2021,
                        2021,
                        2021,
                        2021,
                        2021,
                        2021,
                        2021,
                        2021,
                        2021,
                        2021,
                        2021,
                        2021,
                        2021,
                        2021,
                        2021,
                        2021,
                        2021,
                        2021,
                        2021,
                        2021,
                        2021,
                        2021,
                        2021,
                        2021,
                        2021,
                        2021,
                        2021,
                        2021,
                        2021,
                        2021,
                        2021,
                        2021,
                        2021,
                        2021,
                        2021,
                        2021,
                        2021,
                        2021,
                        2021,
                        2021,
                        2021,
                        2021,
                        2021,
                        2021,
                        2021,
                        2021,
                        2021,
                        2021,
                        2021,
                        2021,
                        2021,
                        2021,
                        2021,
                        2021,
                        2021,
                        2021,
                        2021,
                        2021,
                        2021,
                        2021,
                        2021,
                        2021,
                        2021,
                        2021,
                        2021,
                        2021,
                        2021,
                        2021,
                        2021,
                        2021,
                        2021,
                        2021,
                        2021,
                        2021,
                        2021,
                        2021,
                        2021,
                        2021,
                        2021,
                        2021,
                        2021,
                        2021,
                        2021,
                        2021,
                        2021,
                        2021,
                        2021,
                        2021,
                        2021,
                        2021,
                        2021,
                        2021,
                        2021,
                        2021,
                        2021,
                        2021,
                        2021,
                        2021,
                        2021,
                        2021,
                        2021,
                        2021,
                        2021,
                        2021,
                        2021,
                        2021,
                        2021,
                        2021,
                        2021,
                        2021,
                        2021,
                        2021,
                        2021,
                        2021,
                        2021,
                        2021,
                        2021,
                        2021,
                        2021,
                        2021,
                        2021,
                        2021,
                        2021,
                        2021,
                        2021,
                        2021,
                        2021,
                        2021,
                        2021,
                        2021,
                        2021,
                        2021,
                        2021,
                        2021,
                        2021,
                        2021,
                        2021,
                        2021,
                        2021,
                        2021,
                        2021,
                        2021,
                        2021,
                        2021,
                        2021,
                        2021,
                        2021,
                        2021,
                        2021,
                        2021,
                        2021,
                        2021,
                        2021,
                        2021,
                        2021,
                        2021,
                        2021,
                        2021,
                        2021,
                        2021,
                        2021,
                        2021,
                        2021,
                        2021,
                        2021,
                        2021,
                        2021,
                        2021,
                        2021,
                        2021,
                        2021,
                        2021,
                        2021,
                        2021,
                        2021,
                        2021,
                        2021,
                        2021,
                        2021,
                        2021,
                        2021,
                        2021,
                        2021,
                        2021,
                        2021,
                        2021,
                        2021,
                        2021,
                        2021,
                        2021,
                        2021,
                        2021,
                        2021,
                        2021,
                        2021,
                        2021,
                        2021,
                        2021,
                        2021,
                        2021,
                        2021,
                        2021,
                        2021,
                        2021,
                        2021,
                        2021,
                        2021,
                        2021,
                        2021,
                        2021,
                        2021,
                        2021,
                        2021,
                        2021,
                        2021,
                        2021,
                        2021,
                        2021,
                        2021,
                        2021,
                        2021,
                        2021,
                        2021,
                        2021,
                        2021,
                        2021,
                        2021,
                        2021,
                        2021
                      ]
                    ]
                  },
                  "header": {
                    "fill": {
                      "color": "lightpink"
                    },
                    "values": [
                      "title",
                      "year"
                    ]
                  },
                  "type": "table"
                }
              ],
              "layout": {
                "template": {
                  "data": {
                    "bar": [
                      {
                        "error_x": {
                          "color": "#2a3f5f"
                        },
                        "error_y": {
                          "color": "#2a3f5f"
                        },
                        "marker": {
                          "line": {
                            "color": "#E5ECF6",
                            "width": 0.5
                          },
                          "pattern": {
                            "fillmode": "overlay",
                            "size": 10,
                            "solidity": 0.2
                          }
                        },
                        "type": "bar"
                      }
                    ],
                    "barpolar": [
                      {
                        "marker": {
                          "line": {
                            "color": "#E5ECF6",
                            "width": 0.5
                          },
                          "pattern": {
                            "fillmode": "overlay",
                            "size": 10,
                            "solidity": 0.2
                          }
                        },
                        "type": "barpolar"
                      }
                    ],
                    "carpet": [
                      {
                        "aaxis": {
                          "endlinecolor": "#2a3f5f",
                          "gridcolor": "white",
                          "linecolor": "white",
                          "minorgridcolor": "white",
                          "startlinecolor": "#2a3f5f"
                        },
                        "baxis": {
                          "endlinecolor": "#2a3f5f",
                          "gridcolor": "white",
                          "linecolor": "white",
                          "minorgridcolor": "white",
                          "startlinecolor": "#2a3f5f"
                        },
                        "type": "carpet"
                      }
                    ],
                    "choropleth": [
                      {
                        "colorbar": {
                          "outlinewidth": 0,
                          "ticks": ""
                        },
                        "type": "choropleth"
                      }
                    ],
                    "contour": [
                      {
                        "colorbar": {
                          "outlinewidth": 0,
                          "ticks": ""
                        },
                        "colorscale": [
                          [
                            0,
                            "#0d0887"
                          ],
                          [
                            0.1111111111111111,
                            "#46039f"
                          ],
                          [
                            0.2222222222222222,
                            "#7201a8"
                          ],
                          [
                            0.3333333333333333,
                            "#9c179e"
                          ],
                          [
                            0.4444444444444444,
                            "#bd3786"
                          ],
                          [
                            0.5555555555555556,
                            "#d8576b"
                          ],
                          [
                            0.6666666666666666,
                            "#ed7953"
                          ],
                          [
                            0.7777777777777778,
                            "#fb9f3a"
                          ],
                          [
                            0.8888888888888888,
                            "#fdca26"
                          ],
                          [
                            1,
                            "#f0f921"
                          ]
                        ],
                        "type": "contour"
                      }
                    ],
                    "contourcarpet": [
                      {
                        "colorbar": {
                          "outlinewidth": 0,
                          "ticks": ""
                        },
                        "type": "contourcarpet"
                      }
                    ],
                    "heatmap": [
                      {
                        "colorbar": {
                          "outlinewidth": 0,
                          "ticks": ""
                        },
                        "colorscale": [
                          [
                            0,
                            "#0d0887"
                          ],
                          [
                            0.1111111111111111,
                            "#46039f"
                          ],
                          [
                            0.2222222222222222,
                            "#7201a8"
                          ],
                          [
                            0.3333333333333333,
                            "#9c179e"
                          ],
                          [
                            0.4444444444444444,
                            "#bd3786"
                          ],
                          [
                            0.5555555555555556,
                            "#d8576b"
                          ],
                          [
                            0.6666666666666666,
                            "#ed7953"
                          ],
                          [
                            0.7777777777777778,
                            "#fb9f3a"
                          ],
                          [
                            0.8888888888888888,
                            "#fdca26"
                          ],
                          [
                            1,
                            "#f0f921"
                          ]
                        ],
                        "type": "heatmap"
                      }
                    ],
                    "heatmapgl": [
                      {
                        "colorbar": {
                          "outlinewidth": 0,
                          "ticks": ""
                        },
                        "colorscale": [
                          [
                            0,
                            "#0d0887"
                          ],
                          [
                            0.1111111111111111,
                            "#46039f"
                          ],
                          [
                            0.2222222222222222,
                            "#7201a8"
                          ],
                          [
                            0.3333333333333333,
                            "#9c179e"
                          ],
                          [
                            0.4444444444444444,
                            "#bd3786"
                          ],
                          [
                            0.5555555555555556,
                            "#d8576b"
                          ],
                          [
                            0.6666666666666666,
                            "#ed7953"
                          ],
                          [
                            0.7777777777777778,
                            "#fb9f3a"
                          ],
                          [
                            0.8888888888888888,
                            "#fdca26"
                          ],
                          [
                            1,
                            "#f0f921"
                          ]
                        ],
                        "type": "heatmapgl"
                      }
                    ],
                    "histogram": [
                      {
                        "marker": {
                          "pattern": {
                            "fillmode": "overlay",
                            "size": 10,
                            "solidity": 0.2
                          }
                        },
                        "type": "histogram"
                      }
                    ],
                    "histogram2d": [
                      {
                        "colorbar": {
                          "outlinewidth": 0,
                          "ticks": ""
                        },
                        "colorscale": [
                          [
                            0,
                            "#0d0887"
                          ],
                          [
                            0.1111111111111111,
                            "#46039f"
                          ],
                          [
                            0.2222222222222222,
                            "#7201a8"
                          ],
                          [
                            0.3333333333333333,
                            "#9c179e"
                          ],
                          [
                            0.4444444444444444,
                            "#bd3786"
                          ],
                          [
                            0.5555555555555556,
                            "#d8576b"
                          ],
                          [
                            0.6666666666666666,
                            "#ed7953"
                          ],
                          [
                            0.7777777777777778,
                            "#fb9f3a"
                          ],
                          [
                            0.8888888888888888,
                            "#fdca26"
                          ],
                          [
                            1,
                            "#f0f921"
                          ]
                        ],
                        "type": "histogram2d"
                      }
                    ],
                    "histogram2dcontour": [
                      {
                        "colorbar": {
                          "outlinewidth": 0,
                          "ticks": ""
                        },
                        "colorscale": [
                          [
                            0,
                            "#0d0887"
                          ],
                          [
                            0.1111111111111111,
                            "#46039f"
                          ],
                          [
                            0.2222222222222222,
                            "#7201a8"
                          ],
                          [
                            0.3333333333333333,
                            "#9c179e"
                          ],
                          [
                            0.4444444444444444,
                            "#bd3786"
                          ],
                          [
                            0.5555555555555556,
                            "#d8576b"
                          ],
                          [
                            0.6666666666666666,
                            "#ed7953"
                          ],
                          [
                            0.7777777777777778,
                            "#fb9f3a"
                          ],
                          [
                            0.8888888888888888,
                            "#fdca26"
                          ],
                          [
                            1,
                            "#f0f921"
                          ]
                        ],
                        "type": "histogram2dcontour"
                      }
                    ],
                    "mesh3d": [
                      {
                        "colorbar": {
                          "outlinewidth": 0,
                          "ticks": ""
                        },
                        "type": "mesh3d"
                      }
                    ],
                    "parcoords": [
                      {
                        "line": {
                          "colorbar": {
                            "outlinewidth": 0,
                            "ticks": ""
                          }
                        },
                        "type": "parcoords"
                      }
                    ],
                    "pie": [
                      {
                        "automargin": true,
                        "type": "pie"
                      }
                    ],
                    "scatter": [
                      {
                        "fillpattern": {
                          "fillmode": "overlay",
                          "size": 10,
                          "solidity": 0.2
                        },
                        "type": "scatter"
                      }
                    ],
                    "scatter3d": [
                      {
                        "line": {
                          "colorbar": {
                            "outlinewidth": 0,
                            "ticks": ""
                          }
                        },
                        "marker": {
                          "colorbar": {
                            "outlinewidth": 0,
                            "ticks": ""
                          }
                        },
                        "type": "scatter3d"
                      }
                    ],
                    "scattercarpet": [
                      {
                        "marker": {
                          "colorbar": {
                            "outlinewidth": 0,
                            "ticks": ""
                          }
                        },
                        "type": "scattercarpet"
                      }
                    ],
                    "scattergeo": [
                      {
                        "marker": {
                          "colorbar": {
                            "outlinewidth": 0,
                            "ticks": ""
                          }
                        },
                        "type": "scattergeo"
                      }
                    ],
                    "scattergl": [
                      {
                        "marker": {
                          "colorbar": {
                            "outlinewidth": 0,
                            "ticks": ""
                          }
                        },
                        "type": "scattergl"
                      }
                    ],
                    "scattermapbox": [
                      {
                        "marker": {
                          "colorbar": {
                            "outlinewidth": 0,
                            "ticks": ""
                          }
                        },
                        "type": "scattermapbox"
                      }
                    ],
                    "scatterpolar": [
                      {
                        "marker": {
                          "colorbar": {
                            "outlinewidth": 0,
                            "ticks": ""
                          }
                        },
                        "type": "scatterpolar"
                      }
                    ],
                    "scatterpolargl": [
                      {
                        "marker": {
                          "colorbar": {
                            "outlinewidth": 0,
                            "ticks": ""
                          }
                        },
                        "type": "scatterpolargl"
                      }
                    ],
                    "scatterternary": [
                      {
                        "marker": {
                          "colorbar": {
                            "outlinewidth": 0,
                            "ticks": ""
                          }
                        },
                        "type": "scatterternary"
                      }
                    ],
                    "surface": [
                      {
                        "colorbar": {
                          "outlinewidth": 0,
                          "ticks": ""
                        },
                        "colorscale": [
                          [
                            0,
                            "#0d0887"
                          ],
                          [
                            0.1111111111111111,
                            "#46039f"
                          ],
                          [
                            0.2222222222222222,
                            "#7201a8"
                          ],
                          [
                            0.3333333333333333,
                            "#9c179e"
                          ],
                          [
                            0.4444444444444444,
                            "#bd3786"
                          ],
                          [
                            0.5555555555555556,
                            "#d8576b"
                          ],
                          [
                            0.6666666666666666,
                            "#ed7953"
                          ],
                          [
                            0.7777777777777778,
                            "#fb9f3a"
                          ],
                          [
                            0.8888888888888888,
                            "#fdca26"
                          ],
                          [
                            1,
                            "#f0f921"
                          ]
                        ],
                        "type": "surface"
                      }
                    ],
                    "table": [
                      {
                        "cells": {
                          "fill": {
                            "color": "#EBF0F8"
                          },
                          "line": {
                            "color": "white"
                          }
                        },
                        "header": {
                          "fill": {
                            "color": "#C8D4E3"
                          },
                          "line": {
                            "color": "white"
                          }
                        },
                        "type": "table"
                      }
                    ]
                  },
                  "layout": {
                    "annotationdefaults": {
                      "arrowcolor": "#2a3f5f",
                      "arrowhead": 0,
                      "arrowwidth": 1
                    },
                    "autotypenumbers": "strict",
                    "coloraxis": {
                      "colorbar": {
                        "outlinewidth": 0,
                        "ticks": ""
                      }
                    },
                    "colorscale": {
                      "diverging": [
                        [
                          0,
                          "#8e0152"
                        ],
                        [
                          0.1,
                          "#c51b7d"
                        ],
                        [
                          0.2,
                          "#de77ae"
                        ],
                        [
                          0.3,
                          "#f1b6da"
                        ],
                        [
                          0.4,
                          "#fde0ef"
                        ],
                        [
                          0.5,
                          "#f7f7f7"
                        ],
                        [
                          0.6,
                          "#e6f5d0"
                        ],
                        [
                          0.7,
                          "#b8e186"
                        ],
                        [
                          0.8,
                          "#7fbc41"
                        ],
                        [
                          0.9,
                          "#4d9221"
                        ],
                        [
                          1,
                          "#276419"
                        ]
                      ],
                      "sequential": [
                        [
                          0,
                          "#0d0887"
                        ],
                        [
                          0.1111111111111111,
                          "#46039f"
                        ],
                        [
                          0.2222222222222222,
                          "#7201a8"
                        ],
                        [
                          0.3333333333333333,
                          "#9c179e"
                        ],
                        [
                          0.4444444444444444,
                          "#bd3786"
                        ],
                        [
                          0.5555555555555556,
                          "#d8576b"
                        ],
                        [
                          0.6666666666666666,
                          "#ed7953"
                        ],
                        [
                          0.7777777777777778,
                          "#fb9f3a"
                        ],
                        [
                          0.8888888888888888,
                          "#fdca26"
                        ],
                        [
                          1,
                          "#f0f921"
                        ]
                      ],
                      "sequentialminus": [
                        [
                          0,
                          "#0d0887"
                        ],
                        [
                          0.1111111111111111,
                          "#46039f"
                        ],
                        [
                          0.2222222222222222,
                          "#7201a8"
                        ],
                        [
                          0.3333333333333333,
                          "#9c179e"
                        ],
                        [
                          0.4444444444444444,
                          "#bd3786"
                        ],
                        [
                          0.5555555555555556,
                          "#d8576b"
                        ],
                        [
                          0.6666666666666666,
                          "#ed7953"
                        ],
                        [
                          0.7777777777777778,
                          "#fb9f3a"
                        ],
                        [
                          0.8888888888888888,
                          "#fdca26"
                        ],
                        [
                          1,
                          "#f0f921"
                        ]
                      ]
                    },
                    "colorway": [
                      "#636efa",
                      "#EF553B",
                      "#00cc96",
                      "#ab63fa",
                      "#FFA15A",
                      "#19d3f3",
                      "#FF6692",
                      "#B6E880",
                      "#FF97FF",
                      "#FECB52"
                    ],
                    "font": {
                      "color": "#2a3f5f"
                    },
                    "geo": {
                      "bgcolor": "white",
                      "lakecolor": "white",
                      "landcolor": "#E5ECF6",
                      "showlakes": true,
                      "showland": true,
                      "subunitcolor": "white"
                    },
                    "hoverlabel": {
                      "align": "left"
                    },
                    "hovermode": "closest",
                    "mapbox": {
                      "style": "light"
                    },
                    "paper_bgcolor": "white",
                    "plot_bgcolor": "#E5ECF6",
                    "polar": {
                      "angularaxis": {
                        "gridcolor": "white",
                        "linecolor": "white",
                        "ticks": ""
                      },
                      "bgcolor": "#E5ECF6",
                      "radialaxis": {
                        "gridcolor": "white",
                        "linecolor": "white",
                        "ticks": ""
                      }
                    },
                    "scene": {
                      "xaxis": {
                        "backgroundcolor": "#E5ECF6",
                        "gridcolor": "white",
                        "gridwidth": 2,
                        "linecolor": "white",
                        "showbackground": true,
                        "ticks": "",
                        "zerolinecolor": "white"
                      },
                      "yaxis": {
                        "backgroundcolor": "#E5ECF6",
                        "gridcolor": "white",
                        "gridwidth": 2,
                        "linecolor": "white",
                        "showbackground": true,
                        "ticks": "",
                        "zerolinecolor": "white"
                      },
                      "zaxis": {
                        "backgroundcolor": "#E5ECF6",
                        "gridcolor": "white",
                        "gridwidth": 2,
                        "linecolor": "white",
                        "showbackground": true,
                        "ticks": "",
                        "zerolinecolor": "white"
                      }
                    },
                    "shapedefaults": {
                      "line": {
                        "color": "#2a3f5f"
                      }
                    },
                    "ternary": {
                      "aaxis": {
                        "gridcolor": "white",
                        "linecolor": "white",
                        "ticks": ""
                      },
                      "baxis": {
                        "gridcolor": "white",
                        "linecolor": "white",
                        "ticks": ""
                      },
                      "bgcolor": "#E5ECF6",
                      "caxis": {
                        "gridcolor": "white",
                        "linecolor": "white",
                        "ticks": ""
                      }
                    },
                    "title": {
                      "x": 0.05
                    },
                    "xaxis": {
                      "automargin": true,
                      "gridcolor": "white",
                      "linecolor": "white",
                      "ticks": "",
                      "title": {
                        "standoff": 15
                      },
                      "zerolinecolor": "white",
                      "zerolinewidth": 2
                    },
                    "yaxis": {
                      "automargin": true,
                      "gridcolor": "white",
                      "linecolor": "white",
                      "ticks": "",
                      "title": {
                        "standoff": 15
                      },
                      "zerolinecolor": "white",
                      "zerolinewidth": 2
                    }
                  }
                }
              }
            }
          },
          "metadata": {},
          "output_type": "display_data"
        }
      ],
      "source": [
        "fig = go.Figure(data=[go.Table(header=dict(values=['title', 'year'],fill_color='lightpink'),\n",
        "                 cells=dict(values=[contenido_reciente['title'],contenido_reciente['year']],fill_color='antiquewhite'))\n",
        "                     ])\n",
        "fig.show()"
      ]
    },
    {
      "attachments": {},
      "cell_type": "markdown",
      "metadata": {
        "id": "qs-uWGQ7rM8-"
      },
      "source": [
        "### **Análisis de directores con más películas**"
      ]
    },
    {
      "cell_type": "code",
      "execution_count": 77,
      "metadata": {
        "id": "GnmPkqLdIpWh"
      },
      "outputs": [],
      "source": [
        "df_directors = df[['director', 'title']].drop_duplicates()\n",
        "top_directors = df_directors['director'].value_counts().head(5)"
      ]
    },
    {
      "cell_type": "code",
      "execution_count": 78,
      "metadata": {
        "colab": {
          "base_uri": "https://localhost:8080/"
        },
        "id": "161F0LLNIxDQ",
        "outputId": "235b1c71-4b26-4240-c481-a90cf65c9967"
      },
      "outputs": [
        {
          "data": {
            "text/plain": [
              "mark knight              113\n",
              "cannis holder             61\n",
              "jay chapman               42\n",
              "moonbug entertainment     37\n",
              "arthur van merwijk        30\n",
              "Name: director, dtype: int64"
            ]
          },
          "execution_count": 78,
          "metadata": {},
          "output_type": "execute_result"
        }
      ],
      "source": [
        "top_directors.head()"
      ]
    },
    {
      "cell_type": "code",
      "execution_count": 79,
      "metadata": {
        "colab": {
          "base_uri": "https://localhost:8080/",
          "height": 54
        },
        "id": "MAshAdvVI-1i",
        "outputId": "82fb7ef9-687c-4d4d-d43b-c4501c19bc2b"
      },
      "outputs": [
        {
          "data": {
            "image/png": "[encoded data removed]",
            "text/plain": [
              "<Figure size 640x480 with 1 Axes>"
            ]
          },
          "metadata": {},
          "output_type": "display_data"
        }
      ],
      "source": [
        "import matplotlib.pyplot as plt\n",
        "\n",
        "plt.barh(top_directors.index, top_directors.values, color='pink')\n",
        "plt.title('Top 10 directors')\n",
        "plt.xlabel('titles')\n",
        "plt.ylabel('director')\n",
        "\n",
        "plt.show()\n"
      ]
    },
    {
      "attachments": {},
      "cell_type": "markdown",
      "metadata": {
        "id": "Nqfa1MhEM8pB"
      },
      "source": [
        "### **Análisis de actores más populares**"
      ]
    },
    {
      "cell_type": "code",
      "execution_count": 80,
      "metadata": {
        "colab": {
          "base_uri": "https://localhost:8080/",
          "height": 54
        },
        "id": "cOlGzxdtacEc",
        "outputId": "1986b90f-e005-4501-b3ec-182f738732a3"
      },
      "outputs": [
        {
          "data": {
            "image/png": "[encoded data removed]",
            "text/plain": [
              "<Figure size 640x480 with 1 Axes>"
            ]
          },
          "metadata": {},
          "output_type": "display_data"
        }
      ],
      "source": [
        "#ACTORES MAS POPULARES POR ANIO EN LOS ULTIMOS DIEZ ANIOS\n",
        "# Seleccionar solo las películas de los últimos diez años\n",
        "last_10_years = df[df['year'] >= df['year'].max() - 10]\n",
        "\n",
        "# Elimino los registros que contengan valores nulos en \"cast\"\n",
        "last_10_years = last_10_years.dropna(subset=['cast'])\n",
        "\n",
        "# seleccionar solo el actor con mas apariciones en ese anio.\n",
        "actor_counts = last_10_years.groupby('year')['cast'].apply(lambda x: x.str.split(',').explode().value_counts().index[0])\n",
        "\n",
        "##Grafico\n",
        "\n",
        "plt.bar(actor_counts.index, actor_counts.values, color='pink')\n",
        "plt.xlabel('year')\n",
        "plt.ylabel('performance')\n",
        "plt.title('Most popular actors')\n",
        "plt.show()\n"
      ]
    },
    {
      "attachments": {},
      "cell_type": "markdown",
      "metadata": {
        "id": "dOEla2NdcC45"
      },
      "source": [
        "### **Análisis de variables interesantes para el modelo**\n"
      ]
    },
    {
      "attachments": {},
      "cell_type": "markdown",
      "metadata": {
        "id": "MeWVLbnshjIV"
      },
      "source": [
        "#### **Correlacion entre 'score' y 'userId'**"
      ]
    },
    {
      "cell_type": "code",
      "execution_count": 81,
      "metadata": {
        "colab": {
          "base_uri": "https://localhost:8080/"
        },
        "id": "V5umK-yLkxy0",
        "outputId": "d226f92d-7144-4a65-f5b8-2b35c5734df6"
      },
      "outputs": [
        {
          "name": "stdout",
          "output_type": "stream",
          "text": [
            "0.0046163972059835336\n"
          ]
        }
      ],
      "source": [
        "import pandas as pd\n",
        "corr = df['userId'].corr(df['score'])\n",
        "print(corr)\n",
        "#el valor positivo indica una correlación positiva (a medida que aumenta el \"userId\", también lo hace el \"score\")"
      ]
    },
    {
      "attachments": {},
      "cell_type": "markdown",
      "metadata": {
        "id": "GUkaaU_niGHM"
      },
      "source": [
        "#### **Correlación entre la plataforma y la puntuación promedio**"
      ]
    },
    {
      "cell_type": "code",
      "execution_count": 82,
      "metadata": {
        "colab": {
          "base_uri": "https://localhost:8080/"
        },
        "id": "uTRaWBTem7OU",
        "outputId": "667f455b-6230-4b26-df17-231d173a4863"
      },
      "outputs": [
        {
          "name": "stdout",
          "output_type": "stream",
          "text": [
            "Correlacion entre 'platform' and 'score': nan\n"
          ]
        }
      ],
      "source": [
        "# Agrupo por plataforma y calcular la media de las calificaciones\n",
        "platform_scores = df.groupby('platform')['score'].mean()\n",
        "\n",
        "# Calculo la correlación entre las puntuaciones por plataforma y la puntuación total\n",
        "corr = df['score'].corr(platform_scores)\n",
        "\n",
        "print(\"Correlacion entre 'platform' and 'score':\", corr) \n"
      ]
    },
    {
      "cell_type": "markdown",
      "metadata": {
        "id": "SbLplrL_nURY"
      },
      "source": [
        "Este **nan** indica que es posible que la distribución de los datos sea tal que no haya una correlación significativa entre las dos variables."
      ]
    },
    {
      "attachments": {},
      "cell_type": "markdown",
      "metadata": {
        "id": "gpmCKgfZi15i"
      },
      "source": [
        "#### **Correlación entre la 'duration' y 'score'**"
      ]
    },
    {
      "cell_type": "code",
      "execution_count": 83,
      "metadata": {
        "colab": {
          "base_uri": "https://localhost:8080/"
        },
        "id": "F8yVdz1EjxSw",
        "outputId": "539aa1f1-4e89-408c-8446-420de3db4a83"
      },
      "outputs": [
        {
          "name": "stdout",
          "output_type": "stream",
          "text": [
            "-0.0003295484499874815\n"
          ]
        }
      ],
      "source": [
        "corr = df['duration_int'].corr(df['score'])\n",
        "\n",
        "print(corr)\n"
      ]
    },
    {
      "attachments": {},
      "cell_type": "markdown",
      "metadata": {
        "id": "D4g9TgqvpXiB"
      },
      "source": [
        "#### **Matriz de correlacion entre 'userId' y 'score'**"
      ]
    },
    {
      "cell_type": "code",
      "execution_count": 84,
      "metadata": {
        "id": "fpJvGSaapWm7"
      },
      "outputs": [],
      "source": [
        "columnas_numericas = ['userId', 'score']\n",
        "matriz_corr = df[columnas_numericas].corr()"
      ]
    },
    {
      "cell_type": "code",
      "execution_count": 85,
      "metadata": {
        "colab": {
          "base_uri": "https://localhost:8080/",
          "height": 105
        },
        "id": "vV1UjiORpw7y",
        "outputId": "6cd195eb-d680-42dc-c631-a7a0b6d6cb9b"
      },
      "outputs": [
        {
          "data": {
            "text/plain": [
              "<AxesSubplot:>"
            ]
          },
          "execution_count": 85,
          "metadata": {},
          "output_type": "execute_result"
        },
        {
          "data": {
            "image/png": "[encoded data removed]",
            "text/plain": [
              "<Figure size 640x480 with 2 Axes>"
            ]
          },
          "metadata": {},
          "output_type": "display_data"
        }
      ],
      "source": [
        "import seaborn as sns\n",
        "\n",
        "corr = df.corr()\n",
        "sns.heatmap(corr, cmap='Pastel1_r', annot=True)\n"
      ]
    },
    {
      "cell_type": "markdown",
      "metadata": {
        "id": "pOL2jRpOqtDZ"
      },
      "source": [
        "La diagonal principal de la matriz siempre es 1, ya que la correlación de una columna consigo misma es perfecta. Los valores de la matriz de correlación varían entre -1 y 1, donde -1 indica una correlación negativa perfecta, 0 indica una falta de correlación, y 1 indica una correlación positiva perfecta.\n"
      ]
    },
    {
      "attachments": {},
      "cell_type": "markdown",
      "metadata": {
        "id": "e0TBpXwfrM9x"
      },
      "source": [
        "## **DATASET MACHINE LEARNING**"
      ]
    },
    {
      "cell_type": "markdown",
      "metadata": {
        "id": "tYjmh9dxrX9Y"
      },
      "source": [
        "Concluido el EDA puedo definir que las variables mas importantes para hacer un modelo de ML que prediga recomendaciones, son los siguientes:\n",
        "\n",
        "\n",
        "> *'userId'*: Identifica de manera única a cada usuario en eldf. Es importante incluir esta variable ya que el objetivo es hacer recomendaciones personalizadas para cada usuario.\n",
        "\n",
        "> *'id'*: Permite identificar de manera única a cada película. Me aegura que no voy a recomendar dos veces la misma película a un usuario.\n",
        "\n",
        "\n",
        "\n",
        "> *'score'*: Es la variable a predecir en el modelo de recomendación. Al incluir el score dejo una pista importante para el algoritmo de aprendizaje automático sobre lo que tiene que saber predecir. **VARIABLE OBJETIVO**\n"
      ]
    },
    {
      "cell_type": "markdown",
      "metadata": {
        "id": "PgwJFpzftoBz"
      },
      "source": [
        "Trabajo para dejar el dataset lo mas simple posible para la ultima parte. "
      ]
    },
    {
      "cell_type": "code",
      "execution_count": 86,
      "metadata": {
        "colab": {
          "base_uri": "https://localhost:8080/",
          "height": 693
        },
        "id": "EdP26F9rrS3Q",
        "outputId": "437246ee-7379-4611-a8ce-d74613b226cf"
      },
      "outputs": [
        {
          "data": {
            "text/html": [
              "<div>\n",
              "<style scoped>\n",
              "    .dataframe tbody tr th:only-of-type {\n",
              "        vertical-align: middle;\n",
              "    }\n",
              "\n",
              "    .dataframe tbody tr th {\n",
              "        vertical-align: top;\n",
              "    }\n",
              "\n",
              "    .dataframe thead th {\n",
              "        text-align: right;\n",
              "    }\n",
              "</style>\n",
              "<table border=\"1\" class=\"dataframe\">\n",
              "  <thead>\n",
              "    <tr style=\"text-align: right;\">\n",
              "      <th></th>\n",
              "      <th>id</th>\n",
              "      <th>type</th>\n",
              "      <th>title</th>\n",
              "      <th>director</th>\n",
              "      <th>cast</th>\n",
              "      <th>country</th>\n",
              "      <th>date_added</th>\n",
              "      <th>year</th>\n",
              "      <th>rating</th>\n",
              "      <th>listed_in</th>\n",
              "      <th>description</th>\n",
              "      <th>duration_int</th>\n",
              "      <th>duration_type</th>\n",
              "      <th>scored</th>\n",
              "      <th>platform</th>\n",
              "      <th>userId</th>\n",
              "      <th>score</th>\n",
              "      <th>timestamp</th>\n",
              "    </tr>\n",
              "  </thead>\n",
              "  <tbody>\n",
              "    <tr>\n",
              "      <th>0</th>\n",
              "      <td>as1</td>\n",
              "      <td>movie</td>\n",
              "      <td>the grand seduction</td>\n",
              "      <td>don mckellar</td>\n",
              "      <td>brendan gleeson, taylor kitsch, gordon pinsent</td>\n",
              "      <td>canada</td>\n",
              "      <td>2021-03-30</td>\n",
              "      <td>2014</td>\n",
              "      <td>g</td>\n",
              "      <td>comedy, drama</td>\n",
              "      <td>a small fishing village must procure a local d...</td>\n",
              "      <td>113</td>\n",
              "      <td>min</td>\n",
              "      <td>3.47</td>\n",
              "      <td>amazon</td>\n",
              "      <td>543</td>\n",
              "      <td>5.0</td>\n",
              "      <td>2003-07-30</td>\n",
              "    </tr>\n",
              "    <tr>\n",
              "      <th>1</th>\n",
              "      <td>as1</td>\n",
              "      <td>movie</td>\n",
              "      <td>the grand seduction</td>\n",
              "      <td>don mckellar</td>\n",
              "      <td>brendan gleeson, taylor kitsch, gordon pinsent</td>\n",
              "      <td>canada</td>\n",
              "      <td>2021-03-30</td>\n",
              "      <td>2014</td>\n",
              "      <td>g</td>\n",
              "      <td>comedy, drama</td>\n",
              "      <td>a small fishing village must procure a local d...</td>\n",
              "      <td>113</td>\n",
              "      <td>min</td>\n",
              "      <td>3.47</td>\n",
              "      <td>amazon</td>\n",
              "      <td>595</td>\n",
              "      <td>3.0</td>\n",
              "      <td>1996-08-13</td>\n",
              "    </tr>\n",
              "    <tr>\n",
              "      <th>2</th>\n",
              "      <td>as1</td>\n",
              "      <td>movie</td>\n",
              "      <td>the grand seduction</td>\n",
              "      <td>don mckellar</td>\n",
              "      <td>brendan gleeson, taylor kitsch, gordon pinsent</td>\n",
              "      <td>canada</td>\n",
              "      <td>2021-03-30</td>\n",
              "      <td>2014</td>\n",
              "      <td>g</td>\n",
              "      <td>comedy, drama</td>\n",
              "      <td>a small fishing village must procure a local d...</td>\n",
              "      <td>113</td>\n",
              "      <td>min</td>\n",
              "      <td>3.47</td>\n",
              "      <td>amazon</td>\n",
              "      <td>611</td>\n",
              "      <td>3.0</td>\n",
              "      <td>2001-01-03</td>\n",
              "    </tr>\n",
              "    <tr>\n",
              "      <th>3</th>\n",
              "      <td>as1</td>\n",
              "      <td>movie</td>\n",
              "      <td>the grand seduction</td>\n",
              "      <td>don mckellar</td>\n",
              "      <td>brendan gleeson, taylor kitsch, gordon pinsent</td>\n",
              "      <td>canada</td>\n",
              "      <td>2021-03-30</td>\n",
              "      <td>2014</td>\n",
              "      <td>g</td>\n",
              "      <td>comedy, drama</td>\n",
              "      <td>a small fishing village must procure a local d...</td>\n",
              "      <td>113</td>\n",
              "      <td>min</td>\n",
              "      <td>3.47</td>\n",
              "      <td>amazon</td>\n",
              "      <td>2523</td>\n",
              "      <td>3.5</td>\n",
              "      <td>2012-06-25</td>\n",
              "    </tr>\n",
              "    <tr>\n",
              "      <th>4</th>\n",
              "      <td>as1</td>\n",
              "      <td>movie</td>\n",
              "      <td>the grand seduction</td>\n",
              "      <td>don mckellar</td>\n",
              "      <td>brendan gleeson, taylor kitsch, gordon pinsent</td>\n",
              "      <td>canada</td>\n",
              "      <td>2021-03-30</td>\n",
              "      <td>2014</td>\n",
              "      <td>g</td>\n",
              "      <td>comedy, drama</td>\n",
              "      <td>a small fishing village must procure a local d...</td>\n",
              "      <td>113</td>\n",
              "      <td>min</td>\n",
              "      <td>3.47</td>\n",
              "      <td>amazon</td>\n",
              "      <td>3082</td>\n",
              "      <td>4.0</td>\n",
              "      <td>2000-03-30</td>\n",
              "    </tr>\n",
              "  </tbody>\n",
              "</table>\n",
              "</div>"
            ],
            "text/plain": [
              "    id   type                title      director  \\\n",
              "0  as1  movie  the grand seduction  don mckellar   \n",
              "1  as1  movie  the grand seduction  don mckellar   \n",
              "2  as1  movie  the grand seduction  don mckellar   \n",
              "3  as1  movie  the grand seduction  don mckellar   \n",
              "4  as1  movie  the grand seduction  don mckellar   \n",
              "\n",
              "                                             cast country date_added  year  \\\n",
              "0  brendan gleeson, taylor kitsch, gordon pinsent  canada 2021-03-30  2014   \n",
              "1  brendan gleeson, taylor kitsch, gordon pinsent  canada 2021-03-30  2014   \n",
              "2  brendan gleeson, taylor kitsch, gordon pinsent  canada 2021-03-30  2014   \n",
              "3  brendan gleeson, taylor kitsch, gordon pinsent  canada 2021-03-30  2014   \n",
              "4  brendan gleeson, taylor kitsch, gordon pinsent  canada 2021-03-30  2014   \n",
              "\n",
              "  rating      listed_in                                        description  \\\n",
              "0      g  comedy, drama  a small fishing village must procure a local d...   \n",
              "1      g  comedy, drama  a small fishing village must procure a local d...   \n",
              "2      g  comedy, drama  a small fishing village must procure a local d...   \n",
              "3      g  comedy, drama  a small fishing village must procure a local d...   \n",
              "4      g  comedy, drama  a small fishing village must procure a local d...   \n",
              "\n",
              "   duration_int duration_type  scored platform  userId  score   timestamp  \n",
              "0           113           min    3.47   amazon     543    5.0  2003-07-30  \n",
              "1           113           min    3.47   amazon     595    3.0  1996-08-13  \n",
              "2           113           min    3.47   amazon     611    3.0  2001-01-03  \n",
              "3           113           min    3.47   amazon    2523    3.5  2012-06-25  \n",
              "4           113           min    3.47   amazon    3082    4.0  2000-03-30  "
            ]
          },
          "execution_count": 86,
          "metadata": {},
          "output_type": "execute_result"
        }
      ],
      "source": [
        "df.head()"
      ]
    },
    {
      "attachments": {},
      "cell_type": "markdown",
      "metadata": {},
      "source": [
        "Voy a descargar un archivo parquet completo de registros y luego, hacer una muestra."
      ]
    },
    {
      "cell_type": "code",
      "execution_count": 87,
      "metadata": {},
      "outputs": [],
      "source": [
        "#Armo un df con las columnas que necesito.\n",
        "dataset_COMPLETO = df[['id', 'title', 'userId', 'score']]"
      ]
    },
    {
      "cell_type": "code",
      "execution_count": 88,
      "metadata": {},
      "outputs": [],
      "source": [
        "dataset_COMPLETO.to_parquet('dataset_COMPLETO.parquet')"
      ]
    },
    {
      "attachments": {},
      "cell_type": "markdown",
      "metadata": {},
      "source": [
        "Lo primero que voy a hacer es armar una muestra representativa de cada plataforma y formar un dataset con menos datos, para aplicar machine learning. Esto fue una decision  compleja, pero debido a los recursos con los que estoy trabajando de momento es lo mas efectivo y funcional."
      ]
    },
    {
      "cell_type": "code",
      "execution_count": 89,
      "metadata": {},
      "outputs": [],
      "source": [
        "# Agrupo el dataset por los valores únicos de la columna de plataformas\n",
        "grupos = df.groupby(\"platform\")\n",
        "\n",
        "# Creo una lista vacía para almacenar los datos muestreados\n",
        "muestra = []\n",
        "\n",
        "# Iterar sobre cada grupo\n",
        "for grupo in grupos:\n",
        "    tamano_muestra = int(len(grupo[1]) / len(df) * 400000)# Obtengo el tamaño de la muestra proporcional al tamaño del grupo\n",
        "    muestra_grupo = grupo[1].sample(tamano_muestra, random_state=42)# Selecciono una muestra aleatoria del tamaño correspondiente\n",
        "    muestra.append(muestra_grupo) # Agrego la muestra al conjunto de datos\n",
        "nuevo_datos = pd.concat(muestra)  #Combino todas las muestras en un solo dataset\n"
      ]
    },
    {
      "cell_type": "code",
      "execution_count": 90,
      "metadata": {},
      "outputs": [
        {
          "name": "stdout",
          "output_type": "stream",
          "text": [
            "<class 'pandas.core.frame.DataFrame'>\n",
            "Int64Index: 399998 entries, 2812758 to 8662390\n",
            "Data columns (total 18 columns):\n",
            " #   Column         Non-Null Count   Dtype         \n",
            "---  ------         --------------   -----         \n",
            " 0   id             399998 non-null  object        \n",
            " 1   type           399998 non-null  object        \n",
            " 2   title          399998 non-null  object        \n",
            " 3   director       256246 non-null  object        \n",
            " 4   cast           307326 non-null  object        \n",
            " 5   country        200348 non-null  object        \n",
            " 6   date_added     233917 non-null  datetime64[ns]\n",
            " 7   year           399998 non-null  int64         \n",
            " 8   rating         399998 non-null  object        \n",
            " 9   listed_in      399998 non-null  object        \n",
            " 10  description    399931 non-null  object        \n",
            " 11  duration_int   399998 non-null  int64         \n",
            " 12  duration_type  399998 non-null  object        \n",
            " 13  scored         399998 non-null  float64       \n",
            " 14  platform       399998 non-null  object        \n",
            " 15  userId         399998 non-null  int64         \n",
            " 16  score          399998 non-null  float64       \n",
            " 17  timestamp      399998 non-null  object        \n",
            "dtypes: datetime64[ns](1), float64(2), int64(3), object(12)\n",
            "memory usage: 58.0+ MB\n"
          ]
        }
      ],
      "source": [
        "nuevo_datos.head()\n",
        "nuevo_datos.info()"
      ]
    },
    {
      "cell_type": "code",
      "execution_count": 91,
      "metadata": {
        "id": "9297jPwMtwo2"
      },
      "outputs": [],
      "source": [
        "dataset_ML = nuevo_datos[['id', 'title', 'userId', 'score']]"
      ]
    },
    {
      "cell_type": "code",
      "execution_count": 92,
      "metadata": {
        "colab": {
          "base_uri": "https://localhost:8080/",
          "height": 204
        },
        "id": "RCUhlmj3ufok",
        "outputId": "9ee5ed2e-9c37-4e0b-cdb7-20a3ede1915f"
      },
      "outputs": [
        {
          "data": {
            "text/html": [
              "<div>\n",
              "<style scoped>\n",
              "    .dataframe tbody tr th:only-of-type {\n",
              "        vertical-align: middle;\n",
              "    }\n",
              "\n",
              "    .dataframe tbody tr th {\n",
              "        vertical-align: top;\n",
              "    }\n",
              "\n",
              "    .dataframe thead th {\n",
              "        text-align: right;\n",
              "    }\n",
              "</style>\n",
              "<table border=\"1\" class=\"dataframe\">\n",
              "  <thead>\n",
              "    <tr style=\"text-align: right;\">\n",
              "      <th></th>\n",
              "      <th>id</th>\n",
              "      <th>title</th>\n",
              "      <th>userId</th>\n",
              "      <th>score</th>\n",
              "    </tr>\n",
              "  </thead>\n",
              "  <tbody>\n",
              "    <tr>\n",
              "      <th>2812758</th>\n",
              "      <td>as5866</td>\n",
              "      <td>back to gaya</td>\n",
              "      <td>57727</td>\n",
              "      <td>3.5</td>\n",
              "    </tr>\n",
              "    <tr>\n",
              "      <th>2182950</th>\n",
              "      <td>as4553</td>\n",
              "      <td>the exorcism in amarillo</td>\n",
              "      <td>55215</td>\n",
              "      <td>5.0</td>\n",
              "    </tr>\n",
              "    <tr>\n",
              "      <th>4567909</th>\n",
              "      <td>as9535</td>\n",
              "      <td>pune 52</td>\n",
              "      <td>19690</td>\n",
              "      <td>3.0</td>\n",
              "    </tr>\n",
              "    <tr>\n",
              "      <th>257814</th>\n",
              "      <td>as538</td>\n",
              "      <td>the mine adventure with shawn the train and te...</td>\n",
              "      <td>116794</td>\n",
              "      <td>2.0</td>\n",
              "    </tr>\n",
              "    <tr>\n",
              "      <th>4250346</th>\n",
              "      <td>as8869</td>\n",
              "      <td>arthur &amp; merlin: knights of camelot</td>\n",
              "      <td>258137</td>\n",
              "      <td>5.0</td>\n",
              "    </tr>\n",
              "  </tbody>\n",
              "</table>\n",
              "</div>"
            ],
            "text/plain": [
              "             id                                              title  userId  \\\n",
              "2812758  as5866                                       back to gaya   57727   \n",
              "2182950  as4553                           the exorcism in amarillo   55215   \n",
              "4567909  as9535                                            pune 52   19690   \n",
              "257814    as538  the mine adventure with shawn the train and te...  116794   \n",
              "4250346  as8869                arthur & merlin: knights of camelot  258137   \n",
              "\n",
              "         score  \n",
              "2812758    3.5  \n",
              "2182950    5.0  \n",
              "4567909    3.0  \n",
              "257814     2.0  \n",
              "4250346    5.0  "
            ]
          },
          "execution_count": 92,
          "metadata": {},
          "output_type": "execute_result"
        }
      ],
      "source": [
        "dataset_ML.head()"
      ]
    },
    {
      "cell_type": "code",
      "execution_count": 93,
      "metadata": {
        "id": "vBl8RPo_u-4N"
      },
      "outputs": [],
      "source": [
        "#Convierto el dataset a archivo parquet, para levantarlo.\n",
        "\n",
        "dataset_ML.to_parquet('dataset_ML.parquet')"
      ]
    }
  ],
  "metadata": {
    "colab": {
      "collapsed_sections": [
        "njpd-WeWvU4x",
        "omPlAx7Io1HU",
        "7Scy_tNmpG9y",
        "Vego5jp1qef0",
        "Q_3Pt05Fp4Ee",
        "Sf6sUyJ-qL4a",
        "6csZorV4rA7J",
        "8BHaEK8trLAN",
        "qs-uWGQ7rM8-",
        "Nqfa1MhEM8pB",
        "dOEla2NdcC45",
        "MeWVLbnshjIV",
        "GUkaaU_niGHM",
        "gpmCKgfZi15i",
        "D4g9TgqvpXiB"
      ],
      "provenance": [],
      "toc_visible": true
    },
    "kernelspec": {
      "display_name": "base",
      "language": "python",
      "name": "python3"
    },
    "language_info": {
      "codemirror_mode": {
        "name": "ipython",
        "version": 3
      },
      "file_extension": ".py",
      "mimetype": "text/x-python",
      "name": "python",
      "nbconvert_exporter": "python",
      "pygments_lexer": "ipython3",
      "version": "3.9.13"
    },
    "vscode": {
      "interpreter": {
        "hash": "40d3a090f54c6569ab1632332b64b2c03c39dcf918b08424e98f38b5ae0af88f"
      }
    }
  },
  "nbformat": 4,
  "nbformat_minor": 0
}
